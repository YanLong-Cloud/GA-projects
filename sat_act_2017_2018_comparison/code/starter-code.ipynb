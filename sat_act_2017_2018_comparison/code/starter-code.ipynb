{
 "cells": [
  {
   "cell_type": "markdown",
   "metadata": {},
   "source": [
    "# Project 1: SAT & ACT Analysis"
   ]
  },
  {
   "cell_type": "markdown",
   "metadata": {},
   "source": [
    "The first markdown cell in a notebook is a great place to provide an overview of your entire project. You will likely want to at least state your\n",
    "\n",
    "## Problem Statement"
   ]
  },
  {
   "cell_type": "markdown",
   "metadata": {},
   "source": [
    "Define the problem you are finding answers for from the data given."
   ]
  },
  {
   "cell_type": "markdown",
   "metadata": {},
   "source": [
    "## Executive Summary\n",
    "\n",
    "If you want to, it's great to use relative links to direct your audience to various sections of a notebook. **HERE'S A DEMONSTRATION WITH THE CURRENT SECTION HEADERS**:\n",
    "\n",
    "### Contents:\n",
    "- [2017 Data Import & Cleaning](#Data-Import-and-Cleaning)\n",
    "- [2018 Data Import and Cleaning](#2018-Data-Import-and-Cleaning)\n",
    "- [Exploratory Data Analysis](#Exploratory-Data-Analysis)\n",
    "- [Data Visualization](#Visualize-the-data)\n",
    "- [Descriptive and Inferential Statistics](#Descriptive-and-Inferential-Statistics)\n",
    "- [Outside Research](#Outside-Research)\n",
    "- [Conclusions and Recommendations](#Conclusions-and-Recommendations)"
   ]
  },
  {
   "cell_type": "markdown",
   "metadata": {},
   "source": [
    "**If you combine your problem statement, executive summary, data dictionary, and conclusions/recommendations, you have an amazing README.md file that quickly aligns your audience to the contents of your project.** Don't forget to cite your data sources!"
   ]
  },
  {
   "cell_type": "markdown",
   "metadata": {},
   "source": [
    "*All libraries used should be added here*"
   ]
  },
  {
   "cell_type": "code",
   "execution_count": 1,
   "metadata": {},
   "outputs": [],
   "source": [
    "import pandas as pd\n",
    "import numpy as np\n",
    "import seaborn as sns\n",
    "import matplotlib.pyplot as plt\n",
    "from scipy.stats import skew\n",
    "from scipy.stats import norm\n",
    "from scipy.stats import stats\n",
    "from scipy.stats import shapiro"
   ]
  },
  {
   "cell_type": "markdown",
   "metadata": {},
   "source": [
    "## 2017 Data Import and Cleaning"
   ]
  },
  {
   "cell_type": "markdown",
   "metadata": {},
   "source": [
    "#### 1. Read In SAT & ACT  Data\n",
    "\n",
    "Read in the `sat_2017.csv` and `act_2017.csv` files and assign them to appropriately named pandas dataframes."
   ]
  },
  {
   "cell_type": "code",
   "execution_count": 2,
   "metadata": {},
   "outputs": [],
   "source": [
    "sat2017=pd.read_csv('../data/sat_2017.csv')\n",
    "act2017=pd.read_csv('../data/act_2017.csv')"
   ]
  },
  {
   "cell_type": "markdown",
   "metadata": {},
   "source": [
    "#### 2. Display Data\n",
    "\n",
    "Print the first 10 rows of each dataframe to your jupyter notebook"
   ]
  },
  {
   "cell_type": "code",
   "execution_count": 3,
   "metadata": {},
   "outputs": [
    {
     "data": {
      "text/html": [
       "<div>\n",
       "<style scoped>\n",
       "    .dataframe tbody tr th:only-of-type {\n",
       "        vertical-align: middle;\n",
       "    }\n",
       "\n",
       "    .dataframe tbody tr th {\n",
       "        vertical-align: top;\n",
       "    }\n",
       "\n",
       "    .dataframe thead th {\n",
       "        text-align: right;\n",
       "    }\n",
       "</style>\n",
       "<table border=\"1\" class=\"dataframe\">\n",
       "  <thead>\n",
       "    <tr style=\"text-align: right;\">\n",
       "      <th></th>\n",
       "      <th>State</th>\n",
       "      <th>Participation</th>\n",
       "      <th>Evidence-Based Reading and Writing</th>\n",
       "      <th>Math</th>\n",
       "      <th>Total</th>\n",
       "    </tr>\n",
       "  </thead>\n",
       "  <tbody>\n",
       "    <tr>\n",
       "      <td>0</td>\n",
       "      <td>Alabama</td>\n",
       "      <td>5%</td>\n",
       "      <td>593</td>\n",
       "      <td>572</td>\n",
       "      <td>1165</td>\n",
       "    </tr>\n",
       "    <tr>\n",
       "      <td>1</td>\n",
       "      <td>Alaska</td>\n",
       "      <td>38%</td>\n",
       "      <td>547</td>\n",
       "      <td>533</td>\n",
       "      <td>1080</td>\n",
       "    </tr>\n",
       "    <tr>\n",
       "      <td>2</td>\n",
       "      <td>Arizona</td>\n",
       "      <td>30%</td>\n",
       "      <td>563</td>\n",
       "      <td>553</td>\n",
       "      <td>1116</td>\n",
       "    </tr>\n",
       "    <tr>\n",
       "      <td>3</td>\n",
       "      <td>Arkansas</td>\n",
       "      <td>3%</td>\n",
       "      <td>614</td>\n",
       "      <td>594</td>\n",
       "      <td>1208</td>\n",
       "    </tr>\n",
       "    <tr>\n",
       "      <td>4</td>\n",
       "      <td>California</td>\n",
       "      <td>53%</td>\n",
       "      <td>531</td>\n",
       "      <td>524</td>\n",
       "      <td>1055</td>\n",
       "    </tr>\n",
       "    <tr>\n",
       "      <td>5</td>\n",
       "      <td>Colorado</td>\n",
       "      <td>11%</td>\n",
       "      <td>606</td>\n",
       "      <td>595</td>\n",
       "      <td>1201</td>\n",
       "    </tr>\n",
       "    <tr>\n",
       "      <td>6</td>\n",
       "      <td>Connecticut</td>\n",
       "      <td>100%</td>\n",
       "      <td>530</td>\n",
       "      <td>512</td>\n",
       "      <td>1041</td>\n",
       "    </tr>\n",
       "    <tr>\n",
       "      <td>7</td>\n",
       "      <td>Delaware</td>\n",
       "      <td>100%</td>\n",
       "      <td>503</td>\n",
       "      <td>492</td>\n",
       "      <td>996</td>\n",
       "    </tr>\n",
       "    <tr>\n",
       "      <td>8</td>\n",
       "      <td>District of Columbia</td>\n",
       "      <td>100%</td>\n",
       "      <td>482</td>\n",
       "      <td>468</td>\n",
       "      <td>950</td>\n",
       "    </tr>\n",
       "    <tr>\n",
       "      <td>9</td>\n",
       "      <td>Florida</td>\n",
       "      <td>83%</td>\n",
       "      <td>520</td>\n",
       "      <td>497</td>\n",
       "      <td>1017</td>\n",
       "    </tr>\n",
       "  </tbody>\n",
       "</table>\n",
       "</div>"
      ],
      "text/plain": [
       "                  State Participation  Evidence-Based Reading and Writing  \\\n",
       "0               Alabama            5%                                 593   \n",
       "1                Alaska           38%                                 547   \n",
       "2               Arizona           30%                                 563   \n",
       "3              Arkansas            3%                                 614   \n",
       "4            California           53%                                 531   \n",
       "5              Colorado           11%                                 606   \n",
       "6           Connecticut          100%                                 530   \n",
       "7              Delaware          100%                                 503   \n",
       "8  District of Columbia          100%                                 482   \n",
       "9               Florida           83%                                 520   \n",
       "\n",
       "   Math  Total  \n",
       "0   572   1165  \n",
       "1   533   1080  \n",
       "2   553   1116  \n",
       "3   594   1208  \n",
       "4   524   1055  \n",
       "5   595   1201  \n",
       "6   512   1041  \n",
       "7   492    996  \n",
       "8   468    950  \n",
       "9   497   1017  "
      ]
     },
     "execution_count": 3,
     "metadata": {},
     "output_type": "execute_result"
    }
   ],
   "source": [
    "sat2017.head(10)"
   ]
  },
  {
   "cell_type": "code",
   "execution_count": 4,
   "metadata": {},
   "outputs": [
    {
     "data": {
      "text/html": [
       "<div>\n",
       "<style scoped>\n",
       "    .dataframe tbody tr th:only-of-type {\n",
       "        vertical-align: middle;\n",
       "    }\n",
       "\n",
       "    .dataframe tbody tr th {\n",
       "        vertical-align: top;\n",
       "    }\n",
       "\n",
       "    .dataframe thead th {\n",
       "        text-align: right;\n",
       "    }\n",
       "</style>\n",
       "<table border=\"1\" class=\"dataframe\">\n",
       "  <thead>\n",
       "    <tr style=\"text-align: right;\">\n",
       "      <th></th>\n",
       "      <th>State</th>\n",
       "      <th>Participation</th>\n",
       "      <th>English</th>\n",
       "      <th>Math</th>\n",
       "      <th>Reading</th>\n",
       "      <th>Science</th>\n",
       "      <th>Composite</th>\n",
       "    </tr>\n",
       "  </thead>\n",
       "  <tbody>\n",
       "    <tr>\n",
       "      <td>0</td>\n",
       "      <td>National</td>\n",
       "      <td>60%</td>\n",
       "      <td>20.3</td>\n",
       "      <td>20.7</td>\n",
       "      <td>21.4</td>\n",
       "      <td>21.0</td>\n",
       "      <td>21.0</td>\n",
       "    </tr>\n",
       "    <tr>\n",
       "      <td>1</td>\n",
       "      <td>Alabama</td>\n",
       "      <td>100%</td>\n",
       "      <td>18.9</td>\n",
       "      <td>18.4</td>\n",
       "      <td>19.7</td>\n",
       "      <td>19.4</td>\n",
       "      <td>19.2</td>\n",
       "    </tr>\n",
       "    <tr>\n",
       "      <td>2</td>\n",
       "      <td>Alaska</td>\n",
       "      <td>65%</td>\n",
       "      <td>18.7</td>\n",
       "      <td>19.8</td>\n",
       "      <td>20.4</td>\n",
       "      <td>19.9</td>\n",
       "      <td>19.8</td>\n",
       "    </tr>\n",
       "    <tr>\n",
       "      <td>3</td>\n",
       "      <td>Arizona</td>\n",
       "      <td>62%</td>\n",
       "      <td>18.6</td>\n",
       "      <td>19.8</td>\n",
       "      <td>20.1</td>\n",
       "      <td>19.8</td>\n",
       "      <td>19.7</td>\n",
       "    </tr>\n",
       "    <tr>\n",
       "      <td>4</td>\n",
       "      <td>Arkansas</td>\n",
       "      <td>100%</td>\n",
       "      <td>18.9</td>\n",
       "      <td>19.0</td>\n",
       "      <td>19.7</td>\n",
       "      <td>19.5</td>\n",
       "      <td>19.4</td>\n",
       "    </tr>\n",
       "    <tr>\n",
       "      <td>5</td>\n",
       "      <td>California</td>\n",
       "      <td>31%</td>\n",
       "      <td>22.5</td>\n",
       "      <td>22.7</td>\n",
       "      <td>23.1</td>\n",
       "      <td>22.2</td>\n",
       "      <td>22.8</td>\n",
       "    </tr>\n",
       "    <tr>\n",
       "      <td>6</td>\n",
       "      <td>Colorado</td>\n",
       "      <td>100%</td>\n",
       "      <td>20.1</td>\n",
       "      <td>20.3</td>\n",
       "      <td>21.2</td>\n",
       "      <td>20.9</td>\n",
       "      <td>20.8</td>\n",
       "    </tr>\n",
       "    <tr>\n",
       "      <td>7</td>\n",
       "      <td>Connecticut</td>\n",
       "      <td>31%</td>\n",
       "      <td>25.5</td>\n",
       "      <td>24.6</td>\n",
       "      <td>25.6</td>\n",
       "      <td>24.6</td>\n",
       "      <td>25.2</td>\n",
       "    </tr>\n",
       "    <tr>\n",
       "      <td>8</td>\n",
       "      <td>Delaware</td>\n",
       "      <td>18%</td>\n",
       "      <td>24.1</td>\n",
       "      <td>23.4</td>\n",
       "      <td>24.8</td>\n",
       "      <td>23.6</td>\n",
       "      <td>24.1</td>\n",
       "    </tr>\n",
       "    <tr>\n",
       "      <td>9</td>\n",
       "      <td>District of Columbia</td>\n",
       "      <td>32%</td>\n",
       "      <td>24.4</td>\n",
       "      <td>23.5</td>\n",
       "      <td>24.9</td>\n",
       "      <td>23.5</td>\n",
       "      <td>24.2</td>\n",
       "    </tr>\n",
       "  </tbody>\n",
       "</table>\n",
       "</div>"
      ],
      "text/plain": [
       "                  State Participation  English  Math  Reading  Science  \\\n",
       "0              National           60%     20.3  20.7     21.4     21.0   \n",
       "1               Alabama          100%     18.9  18.4     19.7     19.4   \n",
       "2                Alaska           65%     18.7  19.8     20.4     19.9   \n",
       "3               Arizona           62%     18.6  19.8     20.1     19.8   \n",
       "4              Arkansas          100%     18.9  19.0     19.7     19.5   \n",
       "5            California           31%     22.5  22.7     23.1     22.2   \n",
       "6              Colorado          100%     20.1  20.3     21.2     20.9   \n",
       "7           Connecticut           31%     25.5  24.6     25.6     24.6   \n",
       "8              Delaware           18%     24.1  23.4     24.8     23.6   \n",
       "9  District of Columbia           32%     24.4  23.5     24.9     23.5   \n",
       "\n",
       "  Composite  \n",
       "0      21.0  \n",
       "1      19.2  \n",
       "2      19.8  \n",
       "3      19.7  \n",
       "4      19.4  \n",
       "5      22.8  \n",
       "6      20.8  \n",
       "7      25.2  \n",
       "8      24.1  \n",
       "9      24.2  "
      ]
     },
     "execution_count": 4,
     "metadata": {},
     "output_type": "execute_result"
    }
   ],
   "source": [
    "act2017.head(10)"
   ]
  },
  {
   "cell_type": "code",
   "execution_count": 5,
   "metadata": {},
   "outputs": [],
   "source": [
    "def clean_headers(pd):\n",
    "    pd.columns=pd.columns.str.replace('-','_').str.replace(' ','_').str.lower()\n"
   ]
  },
  {
   "cell_type": "code",
   "execution_count": 6,
   "metadata": {},
   "outputs": [],
   "source": [
    "clean_headers(sat2017)\n",
    "clean_headers(act2017)"
   ]
  },
  {
   "cell_type": "markdown",
   "metadata": {},
   "source": [
    "#### 3. Verbally Describe Data\n",
    "\n",
    "Take your time looking through the data and thoroughly describe the data in the markdown cell below. "
   ]
  },
  {
   "cell_type": "code",
   "execution_count": 7,
   "metadata": {},
   "outputs": [
    {
     "name": "stdout",
     "output_type": "stream",
     "text": [
      "       evidence_based_reading_and_writing        math        total\n",
      "count                           51.000000   51.000000    51.000000\n",
      "mean                           569.117647  547.627451  1126.098039\n",
      "std                             45.666901   84.909119    92.494812\n",
      "min                            482.000000   52.000000   950.000000\n",
      "25%                            533.500000  522.000000  1055.500000\n",
      "50%                            559.000000  548.000000  1107.000000\n",
      "75%                            613.000000  599.000000  1212.000000\n",
      "max                            644.000000  651.000000  1295.000000\n",
      "         english       math    reading    science\n",
      "count  52.000000  52.000000  52.000000  52.000000\n",
      "mean   20.919231  21.173077  22.001923  21.040385\n",
      "std     2.332132   1.963602   2.048672   3.151113\n",
      "min    16.300000  18.000000  18.100000   2.300000\n",
      "25%    19.000000  19.400000  20.475000  19.900000\n",
      "50%    20.550000  20.900000  21.700000  21.150000\n",
      "75%    23.300000  23.100000  24.125000  22.525000\n",
      "max    25.500000  25.300000  26.000000  24.900000\n"
     ]
    }
   ],
   "source": [
    "for pds in sat2017,act2017:\n",
    "    print(pds.describe())"
   ]
  },
  {
   "cell_type": "markdown",
   "metadata": {},
   "source": [
    "Answer: \n",
    "The SAT and ACT have 5 and 7 columns respectively. The data of both dataframe are mostly in the type of data they should be, with the exception of composite which should be a float type and yet is not shown in the describe, tentatively due to an error somewhere in the list.\n",
    "\n",
    "Both states column also seems to be neatly arranged in the alphabetical order based on the head with the exception of 'National' in the state column of the dataframe in ACT scores. We could tentatively use this as the index with set_index function if the columns proves to be unique. "
   ]
  },
  {
   "cell_type": "markdown",
   "metadata": {},
   "source": [
    "#### 4a. Does the data look complete? "
   ]
  },
  {
   "cell_type": "code",
   "execution_count": 8,
   "metadata": {},
   "outputs": [
    {
     "name": "stdout",
     "output_type": "stream",
     "text": [
      "<class 'pandas.core.frame.DataFrame'>\n",
      "RangeIndex: 51 entries, 0 to 50\n",
      "Data columns (total 5 columns):\n",
      "state                                 51 non-null object\n",
      "participation                         51 non-null object\n",
      "evidence_based_reading_and_writing    51 non-null int64\n",
      "math                                  51 non-null int64\n",
      "total                                 51 non-null int64\n",
      "dtypes: int64(3), object(2)\n",
      "memory usage: 2.1+ KB\n",
      "None\n",
      "<class 'pandas.core.frame.DataFrame'>\n",
      "RangeIndex: 52 entries, 0 to 51\n",
      "Data columns (total 7 columns):\n",
      "state            52 non-null object\n",
      "participation    52 non-null object\n",
      "english          52 non-null float64\n",
      "math             52 non-null float64\n",
      "reading          52 non-null float64\n",
      "science          52 non-null float64\n",
      "composite        52 non-null object\n",
      "dtypes: float64(4), object(3)\n",
      "memory usage: 3.0+ KB\n",
      "None\n"
     ]
    }
   ],
   "source": [
    "for pds in sat2017,act2017:\n",
    "    print(pds.info())"
   ]
  },
  {
   "cell_type": "code",
   "execution_count": 9,
   "metadata": {},
   "outputs": [
    {
     "data": {
      "text/html": [
       "<div>\n",
       "<style scoped>\n",
       "    .dataframe tbody tr th:only-of-type {\n",
       "        vertical-align: middle;\n",
       "    }\n",
       "\n",
       "    .dataframe tbody tr th {\n",
       "        vertical-align: top;\n",
       "    }\n",
       "\n",
       "    .dataframe thead th {\n",
       "        text-align: right;\n",
       "    }\n",
       "</style>\n",
       "<table border=\"1\" class=\"dataframe\">\n",
       "  <thead>\n",
       "    <tr style=\"text-align: right;\">\n",
       "      <th></th>\n",
       "      <th>state</th>\n",
       "      <th>participation</th>\n",
       "      <th>english</th>\n",
       "      <th>math</th>\n",
       "      <th>reading</th>\n",
       "      <th>science</th>\n",
       "      <th>composite</th>\n",
       "    </tr>\n",
       "  </thead>\n",
       "  <tbody>\n",
       "    <tr>\n",
       "      <td>0</td>\n",
       "      <td>National</td>\n",
       "      <td>60%</td>\n",
       "      <td>20.3</td>\n",
       "      <td>20.7</td>\n",
       "      <td>21.4</td>\n",
       "      <td>21.0</td>\n",
       "      <td>21.0</td>\n",
       "    </tr>\n",
       "  </tbody>\n",
       "</table>\n",
       "</div>"
      ],
      "text/plain": [
       "      state participation  english  math  reading  science composite\n",
       "0  National           60%     20.3  20.7     21.4     21.0      21.0"
      ]
     },
     "execution_count": 9,
     "metadata": {},
     "output_type": "execute_result"
    }
   ],
   "source": [
    "# finding the extra value\n",
    "act2017[np.logical_not(act2017.state.isin(sat2017.state))]"
   ]
  },
  {
   "cell_type": "code",
   "execution_count": 10,
   "metadata": {},
   "outputs": [
    {
     "data": {
      "text/plain": [
       "english    20.931373\n",
       "math       21.182353\n",
       "reading    22.013725\n",
       "science    21.041176\n",
       "dtype: float64"
      ]
     },
     "execution_count": 10,
     "metadata": {},
     "output_type": "execute_result"
    }
   ],
   "source": [
    "act2017[1:].mean()"
   ]
  },
  {
   "cell_type": "markdown",
   "metadata": {},
   "source": [
    "Answer: The description of the columns each matches the papers that students sit in the tests except for the optional writing score for ACT(and that is fine since it is graded as a separate ELA score). However, there are 51 states in america and it seems like there are 52 entries. Closer inspections as done above shows that the extra ACT score is the national (ie. total result) that seems dubious as it does not seem to be the mean from all the 51 states.\n",
    "\n",
    "None of the data seems to be empty or null and thus looks complete."
   ]
  },
  {
   "cell_type": "markdown",
   "metadata": {},
   "source": [
    "#### 4b. Are there any obvious issues with the observations?\n",
    "\n",
    "**What is the minimum *possible* value for each test/subtest? What is the maximum *possible* value?**\n",
    "\n",
    "Consider comparing any questionable values to the sources of your data:\n",
    "- [SAT](https://blog.collegevine.com/here-are-the-average-sat-scores-by-state/)\n",
    "- [ACT](https://blog.prepscholar.com/act-scores-by-state-averages-highs-and-lows)"
   ]
  },
  {
   "cell_type": "markdown",
   "metadata": {},
   "source": [
    "Answer: The actual scores for the individual sat test can range from 400 - 800 for each paper and the total from 800 - 1600. The max and min of our SAT data in order of math, english and total are 482,52,950 and 644,651,1295 respectively. The minimum for the math score looks questionable. For ACT, the score can range from 1 - 36 and doing the same for reveals a problem with the minimal score in with science which look suspiciously low even though it is within the range. "
   ]
  },
  {
   "cell_type": "markdown",
   "metadata": {},
   "source": [
    "#### 4c. Fix any errors you identified\n",
    "\n",
    "**The data is available** so there's no need to guess or calculate anything. If you didn't find any errors, continue to the next step."
   ]
  },
  {
   "cell_type": "code",
   "execution_count": 11,
   "metadata": {},
   "outputs": [
    {
     "data": {
      "text/html": [
       "<div>\n",
       "<style scoped>\n",
       "    .dataframe tbody tr th:only-of-type {\n",
       "        vertical-align: middle;\n",
       "    }\n",
       "\n",
       "    .dataframe tbody tr th {\n",
       "        vertical-align: top;\n",
       "    }\n",
       "\n",
       "    .dataframe thead th {\n",
       "        text-align: right;\n",
       "    }\n",
       "</style>\n",
       "<table border=\"1\" class=\"dataframe\">\n",
       "  <thead>\n",
       "    <tr style=\"text-align: right;\">\n",
       "      <th></th>\n",
       "      <th>state</th>\n",
       "      <th>participation</th>\n",
       "      <th>evidence_based_reading_and_writing</th>\n",
       "      <th>math</th>\n",
       "      <th>total</th>\n",
       "    </tr>\n",
       "  </thead>\n",
       "  <tbody>\n",
       "    <tr>\n",
       "      <td>20</td>\n",
       "      <td>Maryland</td>\n",
       "      <td>69%</td>\n",
       "      <td>536</td>\n",
       "      <td>52</td>\n",
       "      <td>1060</td>\n",
       "    </tr>\n",
       "  </tbody>\n",
       "</table>\n",
       "</div>"
      ],
      "text/plain": [
       "       state participation  evidence_based_reading_and_writing  math  total\n",
       "20  Maryland           69%                                 536    52   1060"
      ]
     },
     "execution_count": 11,
     "metadata": {},
     "output_type": "execute_result"
    }
   ],
   "source": [
    "sat2017[sat2017.math==sat2017.math.min()]"
   ]
  },
  {
   "cell_type": "code",
   "execution_count": 12,
   "metadata": {},
   "outputs": [
    {
     "data": {
      "text/html": [
       "<div>\n",
       "<style scoped>\n",
       "    .dataframe tbody tr th:only-of-type {\n",
       "        vertical-align: middle;\n",
       "    }\n",
       "\n",
       "    .dataframe tbody tr th {\n",
       "        vertical-align: top;\n",
       "    }\n",
       "\n",
       "    .dataframe thead th {\n",
       "        text-align: right;\n",
       "    }\n",
       "</style>\n",
       "<table border=\"1\" class=\"dataframe\">\n",
       "  <thead>\n",
       "    <tr style=\"text-align: right;\">\n",
       "      <th></th>\n",
       "      <th>state</th>\n",
       "      <th>participation</th>\n",
       "      <th>english</th>\n",
       "      <th>math</th>\n",
       "      <th>reading</th>\n",
       "      <th>science</th>\n",
       "      <th>composite</th>\n",
       "    </tr>\n",
       "  </thead>\n",
       "  <tbody>\n",
       "    <tr>\n",
       "      <td>21</td>\n",
       "      <td>Maryland</td>\n",
       "      <td>28%</td>\n",
       "      <td>23.3</td>\n",
       "      <td>23.1</td>\n",
       "      <td>24.2</td>\n",
       "      <td>2.3</td>\n",
       "      <td>23.6</td>\n",
       "    </tr>\n",
       "  </tbody>\n",
       "</table>\n",
       "</div>"
      ],
      "text/plain": [
       "       state participation  english  math  reading  science composite\n",
       "21  Maryland           28%     23.3  23.1     24.2      2.3      23.6"
      ]
     },
     "execution_count": 12,
     "metadata": {},
     "output_type": "execute_result"
    }
   ],
   "source": [
    "act2017[act2017.science==act2017.science.min()]"
   ]
  },
  {
   "cell_type": "code",
   "execution_count": 13,
   "metadata": {},
   "outputs": [
    {
     "name": "stdout",
     "output_type": "stream",
     "text": [
      "state                                 Maryland\n",
      "participation                              69%\n",
      "evidence_based_reading_and_writing         536\n",
      "math                                       524\n",
      "total                                     1060\n",
      "Name: 20, dtype: object state            Maryland\n",
      "participation         28%\n",
      "english              23.3\n",
      "math                 23.1\n",
      "reading              24.2\n",
      "science              23.2\n",
      "composite            23.6\n",
      "Name: 21, dtype: object\n"
     ]
    }
   ],
   "source": [
    "# replace sat score\n",
    "sat2017.loc[20,'math']=524\n",
    "act2017.loc[21,'science']=23.2\n",
    "print(sat2017.loc[20],act2017.loc[21])"
   ]
  },
  {
   "cell_type": "markdown",
   "metadata": {},
   "source": [
    "#### 5. What are your data types? \n",
    "Display the data types of each feature. "
   ]
  },
  {
   "cell_type": "code",
   "execution_count": 14,
   "metadata": {},
   "outputs": [
    {
     "name": "stdout",
     "output_type": "stream",
     "text": [
      "state                                 object\n",
      "participation                         object\n",
      "evidence_based_reading_and_writing     int64\n",
      "math                                   int64\n",
      "total                                  int64\n",
      "dtype: object\n",
      "state             object\n",
      "participation     object\n",
      "english          float64\n",
      "math             float64\n",
      "reading          float64\n",
      "science          float64\n",
      "composite         object\n",
      "dtype: object\n"
     ]
    }
   ],
   "source": [
    "#code\n",
    "for pds in sat2017,act2017:\n",
    "    print(pds.dtypes)"
   ]
  },
  {
   "cell_type": "markdown",
   "metadata": {},
   "source": [
    "What did you learn?\n",
    "- Do any of them seem odd?  \n",
    "- Which ones are not as they should be?  "
   ]
  },
  {
   "cell_type": "markdown",
   "metadata": {},
   "source": [
    "Answer: The composite column in ACT should be a float as seen in the head. The participation in both ACT and SAT should also be floats."
   ]
  },
  {
   "cell_type": "markdown",
   "metadata": {},
   "source": [
    "#### 6. Fix Incorrect Data Types\n",
    "Based on what you discovered above, use appropriate methods to re-type incorrectly typed data.\n",
    "- Define a function that will allow you to convert participation rates to an appropriate numeric type. Use `map` or `apply` to change these columns in each dataframe."
   ]
  },
  {
   "cell_type": "raw",
   "metadata": {},
   "source": [
    "# attempt 1 --  dunno why doesnt work\n",
    "def participation_to_numeric(col_name):\n",
    "        col_name = col_name.str.replace('%','').apply(pd.to_numeric)\n",
    "        return col_name"
   ]
  },
  {
   "cell_type": "code",
   "execution_count": 15,
   "metadata": {},
   "outputs": [],
   "source": [
    "def convert_percent(num):\n",
    "    return float(num.replace('%','').strip())"
   ]
  },
  {
   "cell_type": "markdown",
   "metadata": {},
   "source": [
    "- Fix any individual values preventing other columns from being the appropriate type."
   ]
  },
  {
   "cell_type": "code",
   "execution_count": 16,
   "metadata": {},
   "outputs": [],
   "source": [
    "sat2017.participation=sat2017.participation.map(lambda num: convert_percent(num))\n",
    "act2017.participation=act2017.participation.map(lambda num: convert_percent(num))"
   ]
  },
  {
   "cell_type": "markdown",
   "metadata": {},
   "source": [
    "- Finish your data modifications by making sure the columns are now typed appropriately."
   ]
  },
  {
   "cell_type": "code",
   "execution_count": 17,
   "metadata": {
    "scrolled": true
   },
   "outputs": [
    {
     "data": {
      "text/html": [
       "<div>\n",
       "<style scoped>\n",
       "    .dataframe tbody tr th:only-of-type {\n",
       "        vertical-align: middle;\n",
       "    }\n",
       "\n",
       "    .dataframe tbody tr th {\n",
       "        vertical-align: top;\n",
       "    }\n",
       "\n",
       "    .dataframe thead th {\n",
       "        text-align: right;\n",
       "    }\n",
       "</style>\n",
       "<table border=\"1\" class=\"dataframe\">\n",
       "  <thead>\n",
       "    <tr style=\"text-align: right;\">\n",
       "      <th></th>\n",
       "      <th>state</th>\n",
       "      <th>participation</th>\n",
       "      <th>english</th>\n",
       "      <th>math</th>\n",
       "      <th>reading</th>\n",
       "      <th>science</th>\n",
       "      <th>composite</th>\n",
       "    </tr>\n",
       "  </thead>\n",
       "  <tbody>\n",
       "    <tr>\n",
       "      <td>51</td>\n",
       "      <td>Wyoming</td>\n",
       "      <td>100.0</td>\n",
       "      <td>19.4</td>\n",
       "      <td>19.8</td>\n",
       "      <td>20.8</td>\n",
       "      <td>20.6</td>\n",
       "      <td>20.2x</td>\n",
       "    </tr>\n",
       "  </tbody>\n",
       "</table>\n",
       "</div>"
      ],
      "text/plain": [
       "      state  participation  english  math  reading  science composite\n",
       "51  Wyoming          100.0     19.4  19.8     20.8     20.6     20.2x"
      ]
     },
     "execution_count": 17,
     "metadata": {},
     "output_type": "execute_result"
    }
   ],
   "source": [
    "act2017[pd.to_numeric(act2017.composite, errors='coerce').isnull()]"
   ]
  },
  {
   "cell_type": "code",
   "execution_count": 18,
   "metadata": {},
   "outputs": [],
   "source": [
    "act2017.loc[51,'composite']=20.2"
   ]
  },
  {
   "cell_type": "code",
   "execution_count": 19,
   "metadata": {},
   "outputs": [],
   "source": [
    "act2017.composite=act2017.composite.apply(pd.to_numeric)"
   ]
  },
  {
   "cell_type": "markdown",
   "metadata": {},
   "source": [
    "- Display the data types again to confirm they are correct."
   ]
  },
  {
   "cell_type": "code",
   "execution_count": 20,
   "metadata": {},
   "outputs": [
    {
     "name": "stdout",
     "output_type": "stream",
     "text": [
      "state                                  object\n",
      "participation                         float64\n",
      "evidence_based_reading_and_writing      int64\n",
      "math                                    int64\n",
      "total                                   int64\n",
      "dtype: object\n",
      "state             object\n",
      "participation    float64\n",
      "english          float64\n",
      "math             float64\n",
      "reading          float64\n",
      "science          float64\n",
      "composite        float64\n",
      "dtype: object\n"
     ]
    }
   ],
   "source": [
    "for pds in sat2017,act2017:\n",
    "    print(pds.dtypes)"
   ]
  },
  {
   "cell_type": "markdown",
   "metadata": {},
   "source": [
    "#### 7. Rename Columns\n",
    "Change the names of the columns to more expressive names so that you can tell the difference the SAT columns and the ACT columns. Your solution should map all column names being changed at once (no repeated singular name-changes). **We will be combining these data with some of the data from 2018, and so you should name columns in an appropriate way**.\n",
    "\n",
    "**Guidelines**:\n",
    "- Column names should be all lowercase (you will thank yourself when you start pushing data to SQL later in the course)\n",
    "- Column names should not contain spaces (underscores will suffice--this allows for using the `df.column_name` method to access columns in addition to `df['column_name']`.\n",
    "- Column names should be unique and informative (the only feature that we actually share between dataframes is the state)."
   ]
  },
  {
   "cell_type": "code",
   "execution_count": 21,
   "metadata": {},
   "outputs": [
    {
     "data": {
      "text/html": [
       "<div>\n",
       "<style scoped>\n",
       "    .dataframe tbody tr th:only-of-type {\n",
       "        vertical-align: middle;\n",
       "    }\n",
       "\n",
       "    .dataframe tbody tr th {\n",
       "        vertical-align: top;\n",
       "    }\n",
       "\n",
       "    .dataframe thead th {\n",
       "        text-align: right;\n",
       "    }\n",
       "</style>\n",
       "<table border=\"1\" class=\"dataframe\">\n",
       "  <thead>\n",
       "    <tr style=\"text-align: right;\">\n",
       "      <th></th>\n",
       "      <th>state</th>\n",
       "      <th>participation_2017act</th>\n",
       "      <th>english_2017act</th>\n",
       "      <th>math_2017act</th>\n",
       "      <th>reading_2017act</th>\n",
       "      <th>science_2017act</th>\n",
       "      <th>composite_2017act</th>\n",
       "    </tr>\n",
       "  </thead>\n",
       "  <tbody>\n",
       "    <tr>\n",
       "      <td>0</td>\n",
       "      <td>National</td>\n",
       "      <td>60.0</td>\n",
       "      <td>20.3</td>\n",
       "      <td>20.7</td>\n",
       "      <td>21.4</td>\n",
       "      <td>21.0</td>\n",
       "      <td>21.0</td>\n",
       "    </tr>\n",
       "    <tr>\n",
       "      <td>1</td>\n",
       "      <td>Alabama</td>\n",
       "      <td>100.0</td>\n",
       "      <td>18.9</td>\n",
       "      <td>18.4</td>\n",
       "      <td>19.7</td>\n",
       "      <td>19.4</td>\n",
       "      <td>19.2</td>\n",
       "    </tr>\n",
       "    <tr>\n",
       "      <td>2</td>\n",
       "      <td>Alaska</td>\n",
       "      <td>65.0</td>\n",
       "      <td>18.7</td>\n",
       "      <td>19.8</td>\n",
       "      <td>20.4</td>\n",
       "      <td>19.9</td>\n",
       "      <td>19.8</td>\n",
       "    </tr>\n",
       "    <tr>\n",
       "      <td>3</td>\n",
       "      <td>Arizona</td>\n",
       "      <td>62.0</td>\n",
       "      <td>18.6</td>\n",
       "      <td>19.8</td>\n",
       "      <td>20.1</td>\n",
       "      <td>19.8</td>\n",
       "      <td>19.7</td>\n",
       "    </tr>\n",
       "    <tr>\n",
       "      <td>4</td>\n",
       "      <td>Arkansas</td>\n",
       "      <td>100.0</td>\n",
       "      <td>18.9</td>\n",
       "      <td>19.0</td>\n",
       "      <td>19.7</td>\n",
       "      <td>19.5</td>\n",
       "      <td>19.4</td>\n",
       "    </tr>\n",
       "  </tbody>\n",
       "</table>\n",
       "</div>"
      ],
      "text/plain": [
       "      state  participation_2017act  english_2017act  math_2017act  \\\n",
       "0  National                   60.0             20.3          20.7   \n",
       "1   Alabama                  100.0             18.9          18.4   \n",
       "2    Alaska                   65.0             18.7          19.8   \n",
       "3   Arizona                   62.0             18.6          19.8   \n",
       "4  Arkansas                  100.0             18.9          19.0   \n",
       "\n",
       "   reading_2017act  science_2017act  composite_2017act  \n",
       "0             21.4             21.0               21.0  \n",
       "1             19.7             19.4               19.2  \n",
       "2             20.4             19.9               19.8  \n",
       "3             20.1             19.8               19.7  \n",
       "4             19.7             19.5               19.4  "
      ]
     },
     "execution_count": 21,
     "metadata": {},
     "output_type": "execute_result"
    }
   ],
   "source": [
    "#last 3 char will be sat/act\n",
    "sat2017.rename({'participation': 'participation_2017sat',\n",
    "                'evidence_based_reading_and_writing':'read_and_write_2017sat',\n",
    "                'math':'math_2017sat',\n",
    "                'total':'total_2017sat'\n",
    "                }, axis= 1,inplace=True)\n",
    "# state is unchanged\n",
    "act2017.rename({act_names : (act_names+'_2017act')  for act_names in act2017.columns[1:]},axis=1,inplace=True)\n",
    "act2017.head()\n"
   ]
  },
  {
   "cell_type": "code",
   "execution_count": 22,
   "metadata": {},
   "outputs": [
    {
     "data": {
      "text/html": [
       "<div>\n",
       "<style scoped>\n",
       "    .dataframe tbody tr th:only-of-type {\n",
       "        vertical-align: middle;\n",
       "    }\n",
       "\n",
       "    .dataframe tbody tr th {\n",
       "        vertical-align: top;\n",
       "    }\n",
       "\n",
       "    .dataframe thead th {\n",
       "        text-align: right;\n",
       "    }\n",
       "</style>\n",
       "<table border=\"1\" class=\"dataframe\">\n",
       "  <thead>\n",
       "    <tr style=\"text-align: right;\">\n",
       "      <th></th>\n",
       "      <th>state</th>\n",
       "      <th>participation_2017sat</th>\n",
       "      <th>read_and_write_2017sat</th>\n",
       "      <th>math_2017sat</th>\n",
       "      <th>total_2017sat</th>\n",
       "    </tr>\n",
       "  </thead>\n",
       "  <tbody>\n",
       "    <tr>\n",
       "      <td>0</td>\n",
       "      <td>Alabama</td>\n",
       "      <td>5.0</td>\n",
       "      <td>593</td>\n",
       "      <td>572</td>\n",
       "      <td>1165</td>\n",
       "    </tr>\n",
       "    <tr>\n",
       "      <td>1</td>\n",
       "      <td>Alaska</td>\n",
       "      <td>38.0</td>\n",
       "      <td>547</td>\n",
       "      <td>533</td>\n",
       "      <td>1080</td>\n",
       "    </tr>\n",
       "    <tr>\n",
       "      <td>2</td>\n",
       "      <td>Arizona</td>\n",
       "      <td>30.0</td>\n",
       "      <td>563</td>\n",
       "      <td>553</td>\n",
       "      <td>1116</td>\n",
       "    </tr>\n",
       "    <tr>\n",
       "      <td>3</td>\n",
       "      <td>Arkansas</td>\n",
       "      <td>3.0</td>\n",
       "      <td>614</td>\n",
       "      <td>594</td>\n",
       "      <td>1208</td>\n",
       "    </tr>\n",
       "    <tr>\n",
       "      <td>4</td>\n",
       "      <td>California</td>\n",
       "      <td>53.0</td>\n",
       "      <td>531</td>\n",
       "      <td>524</td>\n",
       "      <td>1055</td>\n",
       "    </tr>\n",
       "  </tbody>\n",
       "</table>\n",
       "</div>"
      ],
      "text/plain": [
       "        state  participation_2017sat  read_and_write_2017sat  math_2017sat  \\\n",
       "0     Alabama                    5.0                     593           572   \n",
       "1      Alaska                   38.0                     547           533   \n",
       "2     Arizona                   30.0                     563           553   \n",
       "3    Arkansas                    3.0                     614           594   \n",
       "4  California                   53.0                     531           524   \n",
       "\n",
       "   total_2017sat  \n",
       "0           1165  \n",
       "1           1080  \n",
       "2           1116  \n",
       "3           1208  \n",
       "4           1055  "
      ]
     },
     "execution_count": 22,
     "metadata": {},
     "output_type": "execute_result"
    }
   ],
   "source": [
    "sat2017.head()"
   ]
  },
  {
   "cell_type": "markdown",
   "metadata": {},
   "source": [
    "#### 8. Create a data dictionary\n",
    "\n",
    "Now that we've fixed our data, and given it appropriate names, let's create a [data dictionary](http://library.ucmerced.edu/node/10249). \n",
    "\n",
    "A data dictionary provides a quick overview of features/variables/columns, alongside data types and descriptions. The more descriptive you can be, the more useful this document is.\n",
    "\n",
    "Example of a Fictional Data Dictionary Entry: \n",
    "\n",
    "|Feature|Type|Dataset|Description|\n",
    "|---|---|---|---|\n",
    "|**county_pop**|*integer*|2010 census|The population of the county (units in thousands, where 2.5 represents 2500 people).| \n",
    "|**per_poverty**|*float*|2010 census|The percent of the county over the age of 18 living below the 200% of official US poverty rate (units percent to two decimal places 98.10 means 98.1%)|\n",
    "\n",
    "[Here's a quick link to a short guide for formatting markdown in Jupyter notebooks](https://jupyter-notebook.readthedocs.io/en/stable/examples/Notebook/Working%20With%20Markdown%20Cells.html).\n",
    "\n",
    "Provided is the skeleton for formatting a markdown table, with columns headers that will help you create a data dictionary to quickly summarize your data, as well as some examples. **This would be a great thing to copy and paste into your custom README for this project.**"
   ]
  },
  {
   "cell_type": "markdown",
   "metadata": {},
   "source": [
    "\n",
    "|Feature|Type|Dataset|Description|\n",
    "|---|---|---|---|\n",
    "|act2017|DataFrame|2017 ACT|DataFrame from ACT in 2017|\n",
    "|act2018|DataFrame|2018 ACT|DataFrame from ACT in 2018|\n",
    "|sat2017|DataFrame|2017 SAT|DataFrame from SAT in 2017|\n",
    "|sat2018|DataFrame|2018 SAT|DataFrame from SAT in 2018|\n",
    "|state|object|act2018|All 50 American states in 2018|\n",
    "|participation_2017sat|float|sat2017|Participation rates for SAT tests in 2017| \n",
    "|read_and_write_2017act|float|sat2017|Average scores for the evidence-based reading and writing segment of the SAT in 2017| \n",
    "|math_2017sat|float|sat2017|Average scores for the math segment of the SAT in 2017| \n",
    "|total_2017sat|float|sat2017|Average total scores for the SAT in 2017|\n",
    "|participation_2017act|float|act_2017|Participation rates for ACT in 2017| \n",
    "|english_2017act|float|act2017|Average english scores for the ACT in 2017| \n",
    "|math_2017act|float|act2017|Average math scores for the ACT in 2017| \n",
    "|reading_2017act|float|act2017|Average reading scores for the ACT in 2017|\n",
    "|science_2017act|float|act2017|Average science scores for the ACT in 2017| \n",
    "|composite_2017act|float|act2017|Average composite scores for the ACT in 2017| \n",
    "|participation_2018sat|float|sat2018|Participation rates for SAT tests in 2018| \n",
    "|read_and_write_2018act|float|sat2018|Average scores for the evidence-based reading and writing segment of the SAT in 2018| \n",
    "|math_2018sat|float|sat2018|Average scores for the math segment of the SAT in 2018| \n",
    "|total_2018sat|float|sat2018|Average total scores for the SAT in 2018|\n",
    "|participation_2018act|float|act2018|Participation rates for ACT in 2018| \n",
    "|english_2018act|float|act2018|Average english scores for the ACT in 2018| \n",
    "|math_2018act|float|act2018|Average math scores for the ACT in 2018| \n",
    "|reading_2018act|float|act2018|Average reading scores for the ACT in 2018|\n",
    "|science_2018act|float|act2018|Average science scores for the ACT in 2018| \n",
    "|composite_2018act|float|act2018|Average composite scores for the ACT in 2018| \n"
   ]
  },
  {
   "cell_type": "markdown",
   "metadata": {},
   "source": [
    "#### 9. Drop unnecessary rows\n",
    "\n",
    "One of our dataframes contains an extra row. Identify and remove this from the dataframe."
   ]
  },
  {
   "cell_type": "code",
   "execution_count": 23,
   "metadata": {},
   "outputs": [
    {
     "data": {
      "text/html": [
       "<div>\n",
       "<style scoped>\n",
       "    .dataframe tbody tr th:only-of-type {\n",
       "        vertical-align: middle;\n",
       "    }\n",
       "\n",
       "    .dataframe tbody tr th {\n",
       "        vertical-align: top;\n",
       "    }\n",
       "\n",
       "    .dataframe thead th {\n",
       "        text-align: right;\n",
       "    }\n",
       "</style>\n",
       "<table border=\"1\" class=\"dataframe\">\n",
       "  <thead>\n",
       "    <tr style=\"text-align: right;\">\n",
       "      <th></th>\n",
       "      <th>state</th>\n",
       "      <th>participation_2017act</th>\n",
       "      <th>english_2017act</th>\n",
       "      <th>math_2017act</th>\n",
       "      <th>reading_2017act</th>\n",
       "      <th>science_2017act</th>\n",
       "      <th>composite_2017act</th>\n",
       "    </tr>\n",
       "  </thead>\n",
       "  <tbody>\n",
       "    <tr>\n",
       "      <td>0</td>\n",
       "      <td>National</td>\n",
       "      <td>60.0</td>\n",
       "      <td>20.3</td>\n",
       "      <td>20.7</td>\n",
       "      <td>21.4</td>\n",
       "      <td>21.0</td>\n",
       "      <td>21.0</td>\n",
       "    </tr>\n",
       "  </tbody>\n",
       "</table>\n",
       "</div>"
      ],
      "text/plain": [
       "      state  participation_2017act  english_2017act  math_2017act  \\\n",
       "0  National                   60.0             20.3          20.7   \n",
       "\n",
       "   reading_2017act  science_2017act  composite_2017act  \n",
       "0             21.4             21.0               21.0  "
      ]
     },
     "execution_count": 23,
     "metadata": {},
     "output_type": "execute_result"
    }
   ],
   "source": [
    "# Comparing the series between act and sat and creating a boolean list which gives true for the index of the extra row\n",
    "act2017[np.logical_not(act2017.state.isin(sat2017.state))]"
   ]
  },
  {
   "cell_type": "code",
   "execution_count": 24,
   "metadata": {},
   "outputs": [
    {
     "data": {
      "text/html": [
       "<div>\n",
       "<style scoped>\n",
       "    .dataframe tbody tr th:only-of-type {\n",
       "        vertical-align: middle;\n",
       "    }\n",
       "\n",
       "    .dataframe tbody tr th {\n",
       "        vertical-align: top;\n",
       "    }\n",
       "\n",
       "    .dataframe thead th {\n",
       "        text-align: right;\n",
       "    }\n",
       "</style>\n",
       "<table border=\"1\" class=\"dataframe\">\n",
       "  <thead>\n",
       "    <tr style=\"text-align: right;\">\n",
       "      <th></th>\n",
       "      <th>state</th>\n",
       "      <th>participation_2017act</th>\n",
       "      <th>english_2017act</th>\n",
       "      <th>math_2017act</th>\n",
       "      <th>reading_2017act</th>\n",
       "      <th>science_2017act</th>\n",
       "      <th>composite_2017act</th>\n",
       "    </tr>\n",
       "  </thead>\n",
       "  <tbody>\n",
       "    <tr>\n",
       "      <td>1</td>\n",
       "      <td>Alabama</td>\n",
       "      <td>100.0</td>\n",
       "      <td>18.9</td>\n",
       "      <td>18.4</td>\n",
       "      <td>19.7</td>\n",
       "      <td>19.4</td>\n",
       "      <td>19.2</td>\n",
       "    </tr>\n",
       "    <tr>\n",
       "      <td>2</td>\n",
       "      <td>Alaska</td>\n",
       "      <td>65.0</td>\n",
       "      <td>18.7</td>\n",
       "      <td>19.8</td>\n",
       "      <td>20.4</td>\n",
       "      <td>19.9</td>\n",
       "      <td>19.8</td>\n",
       "    </tr>\n",
       "    <tr>\n",
       "      <td>3</td>\n",
       "      <td>Arizona</td>\n",
       "      <td>62.0</td>\n",
       "      <td>18.6</td>\n",
       "      <td>19.8</td>\n",
       "      <td>20.1</td>\n",
       "      <td>19.8</td>\n",
       "      <td>19.7</td>\n",
       "    </tr>\n",
       "    <tr>\n",
       "      <td>4</td>\n",
       "      <td>Arkansas</td>\n",
       "      <td>100.0</td>\n",
       "      <td>18.9</td>\n",
       "      <td>19.0</td>\n",
       "      <td>19.7</td>\n",
       "      <td>19.5</td>\n",
       "      <td>19.4</td>\n",
       "    </tr>\n",
       "    <tr>\n",
       "      <td>5</td>\n",
       "      <td>California</td>\n",
       "      <td>31.0</td>\n",
       "      <td>22.5</td>\n",
       "      <td>22.7</td>\n",
       "      <td>23.1</td>\n",
       "      <td>22.2</td>\n",
       "      <td>22.8</td>\n",
       "    </tr>\n",
       "  </tbody>\n",
       "</table>\n",
       "</div>"
      ],
      "text/plain": [
       "        state  participation_2017act  english_2017act  math_2017act  \\\n",
       "1     Alabama                  100.0             18.9          18.4   \n",
       "2      Alaska                   65.0             18.7          19.8   \n",
       "3     Arizona                   62.0             18.6          19.8   \n",
       "4    Arkansas                  100.0             18.9          19.0   \n",
       "5  California                   31.0             22.5          22.7   \n",
       "\n",
       "   reading_2017act  science_2017act  composite_2017act  \n",
       "1             19.7             19.4               19.2  \n",
       "2             20.4             19.9               19.8  \n",
       "3             20.1             19.8               19.7  \n",
       "4             19.7             19.5               19.4  \n",
       "5             23.1             22.2               22.8  "
      ]
     },
     "execution_count": 24,
     "metadata": {},
     "output_type": "execute_result"
    }
   ],
   "source": [
    "act2017.drop(0,inplace=True)\n",
    "act2017.head()\n"
   ]
  },
  {
   "cell_type": "markdown",
   "metadata": {},
   "source": [
    "#### 10. Merge Dataframes\n",
    "\n",
    "Join the 2017 ACT and SAT dataframes using the state in each dataframe as the key. Assign this to a new variable."
   ]
  },
  {
   "cell_type": "code",
   "execution_count": 25,
   "metadata": {},
   "outputs": [
    {
     "data": {
      "text/html": [
       "<div>\n",
       "<style scoped>\n",
       "    .dataframe tbody tr th:only-of-type {\n",
       "        vertical-align: middle;\n",
       "    }\n",
       "\n",
       "    .dataframe tbody tr th {\n",
       "        vertical-align: top;\n",
       "    }\n",
       "\n",
       "    .dataframe thead th {\n",
       "        text-align: right;\n",
       "    }\n",
       "</style>\n",
       "<table border=\"1\" class=\"dataframe\">\n",
       "  <thead>\n",
       "    <tr style=\"text-align: right;\">\n",
       "      <th></th>\n",
       "      <th>state</th>\n",
       "      <th>participation_2017sat</th>\n",
       "      <th>read_and_write_2017sat</th>\n",
       "      <th>math_2017sat</th>\n",
       "      <th>total_2017sat</th>\n",
       "      <th>participation_2017act</th>\n",
       "      <th>english_2017act</th>\n",
       "      <th>math_2017act</th>\n",
       "      <th>reading_2017act</th>\n",
       "      <th>science_2017act</th>\n",
       "      <th>composite_2017act</th>\n",
       "    </tr>\n",
       "  </thead>\n",
       "  <tbody>\n",
       "    <tr>\n",
       "      <td>0</td>\n",
       "      <td>Alabama</td>\n",
       "      <td>5.0</td>\n",
       "      <td>593</td>\n",
       "      <td>572</td>\n",
       "      <td>1165</td>\n",
       "      <td>100.0</td>\n",
       "      <td>18.9</td>\n",
       "      <td>18.4</td>\n",
       "      <td>19.7</td>\n",
       "      <td>19.4</td>\n",
       "      <td>19.2</td>\n",
       "    </tr>\n",
       "    <tr>\n",
       "      <td>1</td>\n",
       "      <td>Alaska</td>\n",
       "      <td>38.0</td>\n",
       "      <td>547</td>\n",
       "      <td>533</td>\n",
       "      <td>1080</td>\n",
       "      <td>65.0</td>\n",
       "      <td>18.7</td>\n",
       "      <td>19.8</td>\n",
       "      <td>20.4</td>\n",
       "      <td>19.9</td>\n",
       "      <td>19.8</td>\n",
       "    </tr>\n",
       "    <tr>\n",
       "      <td>2</td>\n",
       "      <td>Arizona</td>\n",
       "      <td>30.0</td>\n",
       "      <td>563</td>\n",
       "      <td>553</td>\n",
       "      <td>1116</td>\n",
       "      <td>62.0</td>\n",
       "      <td>18.6</td>\n",
       "      <td>19.8</td>\n",
       "      <td>20.1</td>\n",
       "      <td>19.8</td>\n",
       "      <td>19.7</td>\n",
       "    </tr>\n",
       "    <tr>\n",
       "      <td>3</td>\n",
       "      <td>Arkansas</td>\n",
       "      <td>3.0</td>\n",
       "      <td>614</td>\n",
       "      <td>594</td>\n",
       "      <td>1208</td>\n",
       "      <td>100.0</td>\n",
       "      <td>18.9</td>\n",
       "      <td>19.0</td>\n",
       "      <td>19.7</td>\n",
       "      <td>19.5</td>\n",
       "      <td>19.4</td>\n",
       "    </tr>\n",
       "    <tr>\n",
       "      <td>4</td>\n",
       "      <td>California</td>\n",
       "      <td>53.0</td>\n",
       "      <td>531</td>\n",
       "      <td>524</td>\n",
       "      <td>1055</td>\n",
       "      <td>31.0</td>\n",
       "      <td>22.5</td>\n",
       "      <td>22.7</td>\n",
       "      <td>23.1</td>\n",
       "      <td>22.2</td>\n",
       "      <td>22.8</td>\n",
       "    </tr>\n",
       "  </tbody>\n",
       "</table>\n",
       "</div>"
      ],
      "text/plain": [
       "        state  participation_2017sat  read_and_write_2017sat  math_2017sat  \\\n",
       "0     Alabama                    5.0                     593           572   \n",
       "1      Alaska                   38.0                     547           533   \n",
       "2     Arizona                   30.0                     563           553   \n",
       "3    Arkansas                    3.0                     614           594   \n",
       "4  California                   53.0                     531           524   \n",
       "\n",
       "   total_2017sat  participation_2017act  english_2017act  math_2017act  \\\n",
       "0           1165                  100.0             18.9          18.4   \n",
       "1           1080                   65.0             18.7          19.8   \n",
       "2           1116                   62.0             18.6          19.8   \n",
       "3           1208                  100.0             18.9          19.0   \n",
       "4           1055                   31.0             22.5          22.7   \n",
       "\n",
       "   reading_2017act  science_2017act  composite_2017act  \n",
       "0             19.7             19.4               19.2  \n",
       "1             20.4             19.9               19.8  \n",
       "2             20.1             19.8               19.7  \n",
       "3             19.7             19.5               19.4  \n",
       "4             23.1             22.2               22.8  "
      ]
     },
     "execution_count": 25,
     "metadata": {},
     "output_type": "execute_result"
    }
   ],
   "source": [
    "combined2017=pd.merge(sat2017,act2017)\n",
    "combined2017.head()"
   ]
  },
  {
   "cell_type": "markdown",
   "metadata": {},
   "source": [
    "#### 11. Save your cleaned, merged dataframe\n",
    "\n",
    "Use a relative path to save out your data as `combined_2017.csv`."
   ]
  },
  {
   "cell_type": "code",
   "execution_count": 26,
   "metadata": {},
   "outputs": [],
   "source": [
    "combined2017.to_csv('../data/combined_2017.csv',index=False)"
   ]
  },
  {
   "cell_type": "markdown",
   "metadata": {},
   "source": [
    "## 2018 Data Import and Cleaning"
   ]
  },
  {
   "cell_type": "markdown",
   "metadata": {},
   "source": [
    "Links to the 2018 ACT and SAT data are provided in the README. These data live in PDFs, and so you'll get to enjoy practicing some *manual* data collection. Save these data as a CSV in your `data` directory, and import, explore, and clean these data in the same way you did above. **Make sure you comment on your steps so it is clear *why* you are doing each process**."
   ]
  },
  {
   "cell_type": "code",
   "execution_count": 27,
   "metadata": {},
   "outputs": [],
   "source": [
    "# import\n",
    "sat2018 = pd.read_csv('../data/sat_2018.csv')\n",
    "#rename header\n",
    "sat2018.rename({'State':'state',\n",
    "                'Participation': 'participation_2018sat',\n",
    "                'Evidence-Based Reading and Writing':'read_and_write_2018sat',\n",
    "                'Math':'math_2018sat',\n",
    "                'Total':'total_2018sat'\n",
    "                }, axis= 1,inplace=True)\n",
    "# change participation into int\n",
    "sat2018.participation_2018sat = sat2018.participation_2018sat.str.replace('%','').apply(pd.to_numeric)"
   ]
  },
  {
   "cell_type": "code",
   "execution_count": 28,
   "metadata": {},
   "outputs": [],
   "source": [
    "# import and rename\n",
    "act2018 = pd.read_csv('../data/act_2018_updated.csv')\n",
    "clean_headers(act2018)\n",
    "act2018.rename({act_names : (act_names+'_2018act').replace('average_','').replace('_score','')  for act_names in act2018.columns[1:]},axis=1,inplace=True)\n",
    "act2018.rename({'percentage_of_students_tested_2018act' :'participation_2018act'},axis=1,inplace=True)"
   ]
  },
  {
   "cell_type": "code",
   "execution_count": 29,
   "metadata": {},
   "outputs": [
    {
     "name": "stdout",
     "output_type": "stream",
     "text": [
      "state                     object\n",
      "participation_2018sat      int64\n",
      "read_and_write_2018sat     int64\n",
      "math_2018sat               int64\n",
      "total_2018sat              int64\n",
      "dtype: object (51, 5)\n",
      "state                     object\n",
      "participation_2018act      int64\n",
      "composite_2018act        float64\n",
      "english_2018act          float64\n",
      "math_2018act             float64\n",
      "reading_2018act          float64\n",
      "science_2018act          float64\n",
      "dtype: object (51, 7)\n"
     ]
    }
   ],
   "source": [
    "for pd in sat2018,act2018:\n",
    "    print(pd.dtypes,pd.shape)"
   ]
  },
  {
   "cell_type": "markdown",
   "metadata": {},
   "source": [
    "#### Combine your 2017 and 2018 data into a single dataframe\n",
    "Joining on state names should work, assuming you formatted all your state names identically. Make sure none of your columns (other than state) have identical names. Do yourself a favor and decide if you're encoding participation rates as floats or integers and standardize this across your datasets.\n",
    "\n",
    "Save the contents of this merged dataframe as `final.csv`.\n",
    "\n",
    "**Use this combined dataframe for the remainder of the project**."
   ]
  },
  {
   "cell_type": "code",
   "execution_count": 30,
   "metadata": {},
   "outputs": [],
   "source": [
    "final = combined2017.merge(sat2018.merge(act2018))\n",
    "final.to_csv('../data/final.csv')"
   ]
  },
  {
   "cell_type": "code",
   "execution_count": 31,
   "metadata": {},
   "outputs": [],
   "source": [
    "final.participation_2018sat=final.participation_2018sat.map(lambda num: float(num))\n",
    "final.participation_2018act=final.participation_2018act.map(lambda num: float(num))"
   ]
  },
  {
   "cell_type": "markdown",
   "metadata": {},
   "source": [
    "## Exploratory Data Analysis\n",
    "\n",
    "\n",
    "### Summary Statistics\n",
    "Transpose the output of pandas `describe` method to create a quick overview of each numeric feature."
   ]
  },
  {
   "cell_type": "code",
   "execution_count": 32,
   "metadata": {},
   "outputs": [
    {
     "data": {
      "text/html": [
       "<div>\n",
       "<style scoped>\n",
       "    .dataframe tbody tr th:only-of-type {\n",
       "        vertical-align: middle;\n",
       "    }\n",
       "\n",
       "    .dataframe tbody tr th {\n",
       "        vertical-align: top;\n",
       "    }\n",
       "\n",
       "    .dataframe thead th {\n",
       "        text-align: right;\n",
       "    }\n",
       "</style>\n",
       "<table border=\"1\" class=\"dataframe\">\n",
       "  <thead>\n",
       "    <tr style=\"text-align: right;\">\n",
       "      <th>state</th>\n",
       "      <th>Alabama</th>\n",
       "      <th>Alaska</th>\n",
       "      <th>Arizona</th>\n",
       "      <th>Arkansas</th>\n",
       "      <th>California</th>\n",
       "      <th>Colorado</th>\n",
       "      <th>Connecticut</th>\n",
       "      <th>Delaware</th>\n",
       "      <th>District of Columbia</th>\n",
       "      <th>Florida</th>\n",
       "      <th>...</th>\n",
       "      <th>South Dakota</th>\n",
       "      <th>Tennessee</th>\n",
       "      <th>Texas</th>\n",
       "      <th>Utah</th>\n",
       "      <th>Vermont</th>\n",
       "      <th>Virginia</th>\n",
       "      <th>Washington</th>\n",
       "      <th>West Virginia</th>\n",
       "      <th>Wisconsin</th>\n",
       "      <th>Wyoming</th>\n",
       "    </tr>\n",
       "  </thead>\n",
       "  <tbody>\n",
       "    <tr>\n",
       "      <td>count</td>\n",
       "      <td>20.000000</td>\n",
       "      <td>20.000000</td>\n",
       "      <td>20.000000</td>\n",
       "      <td>20.000000</td>\n",
       "      <td>20.000000</td>\n",
       "      <td>20.000000</td>\n",
       "      <td>20.00000</td>\n",
       "      <td>20.000000</td>\n",
       "      <td>20.000000</td>\n",
       "      <td>20.000000</td>\n",
       "      <td>...</td>\n",
       "      <td>20.000000</td>\n",
       "      <td>20.000000</td>\n",
       "      <td>20.000000</td>\n",
       "      <td>20.000000</td>\n",
       "      <td>20.000000</td>\n",
       "      <td>20.000000</td>\n",
       "      <td>20.000000</td>\n",
       "      <td>20.000000</td>\n",
       "      <td>20.000000</td>\n",
       "      <td>20.000000</td>\n",
       "    </tr>\n",
       "    <tr>\n",
       "      <td>mean</td>\n",
       "      <td>253.175000</td>\n",
       "      <td>237.655000</td>\n",
       "      <td>245.525000</td>\n",
       "      <td>257.700000</td>\n",
       "      <td>232.955000</td>\n",
       "      <td>245.760000</td>\n",
       "      <td>234.99500</td>\n",
       "      <td>222.945000</td>\n",
       "      <td>217.395000</td>\n",
       "      <td>235.380000</td>\n",
       "      <td>...</td>\n",
       "      <td>264.560000</td>\n",
       "      <td>266.205000</td>\n",
       "      <td>226.180000</td>\n",
       "      <td>245.275000</td>\n",
       "      <td>244.035000</td>\n",
       "      <td>243.095000</td>\n",
       "      <td>235.865000</td>\n",
       "      <td>227.435000</td>\n",
       "      <td>279.005000</td>\n",
       "      <td>269.070000</td>\n",
       "    </tr>\n",
       "    <tr>\n",
       "      <td>std</td>\n",
       "      <td>385.078278</td>\n",
       "      <td>360.395474</td>\n",
       "      <td>373.925531</td>\n",
       "      <td>392.929011</td>\n",
       "      <td>350.494792</td>\n",
       "      <td>366.900869</td>\n",
       "      <td>341.41367</td>\n",
       "      <td>325.444479</td>\n",
       "      <td>313.448568</td>\n",
       "      <td>346.329967</td>\n",
       "      <td>...</td>\n",
       "      <td>406.554509</td>\n",
       "      <td>406.572348</td>\n",
       "      <td>336.481338</td>\n",
       "      <td>373.556672</td>\n",
       "      <td>367.401005</td>\n",
       "      <td>364.728326</td>\n",
       "      <td>354.575759</td>\n",
       "      <td>343.852398</td>\n",
       "      <td>427.913005</td>\n",
       "      <td>411.481194</td>\n",
       "    </tr>\n",
       "    <tr>\n",
       "      <td>min</td>\n",
       "      <td>5.000000</td>\n",
       "      <td>18.700000</td>\n",
       "      <td>18.200000</td>\n",
       "      <td>3.000000</td>\n",
       "      <td>22.100000</td>\n",
       "      <td>11.000000</td>\n",
       "      <td>24.60000</td>\n",
       "      <td>17.000000</td>\n",
       "      <td>22.700000</td>\n",
       "      <td>19.000000</td>\n",
       "      <td>...</td>\n",
       "      <td>3.000000</td>\n",
       "      <td>5.000000</td>\n",
       "      <td>19.500000</td>\n",
       "      <td>3.000000</td>\n",
       "      <td>23.100000</td>\n",
       "      <td>23.300000</td>\n",
       "      <td>20.900000</td>\n",
       "      <td>14.000000</td>\n",
       "      <td>3.000000</td>\n",
       "      <td>3.000000</td>\n",
       "    </tr>\n",
       "    <tr>\n",
       "      <td>25%</td>\n",
       "      <td>18.900000</td>\n",
       "      <td>20.275000</td>\n",
       "      <td>19.475000</td>\n",
       "      <td>19.075000</td>\n",
       "      <td>22.650000</td>\n",
       "      <td>21.125000</td>\n",
       "      <td>25.42500</td>\n",
       "      <td>23.400000</td>\n",
       "      <td>23.675000</td>\n",
       "      <td>19.475000</td>\n",
       "      <td>...</td>\n",
       "      <td>21.575000</td>\n",
       "      <td>19.475000</td>\n",
       "      <td>20.700000</td>\n",
       "      <td>19.900000</td>\n",
       "      <td>23.750000</td>\n",
       "      <td>23.725000</td>\n",
       "      <td>22.000000</td>\n",
       "      <td>20.225000</td>\n",
       "      <td>20.375000</td>\n",
       "      <td>19.775000</td>\n",
       "    </tr>\n",
       "    <tr>\n",
       "      <td>50%</td>\n",
       "      <td>19.500000</td>\n",
       "      <td>27.300000</td>\n",
       "      <td>24.550000</td>\n",
       "      <td>19.600000</td>\n",
       "      <td>25.050000</td>\n",
       "      <td>24.150000</td>\n",
       "      <td>26.05000</td>\n",
       "      <td>24.300000</td>\n",
       "      <td>28.450000</td>\n",
       "      <td>38.550000</td>\n",
       "      <td>...</td>\n",
       "      <td>22.250000</td>\n",
       "      <td>19.900000</td>\n",
       "      <td>31.050000</td>\n",
       "      <td>20.700000</td>\n",
       "      <td>24.650000</td>\n",
       "      <td>24.650000</td>\n",
       "      <td>23.350000</td>\n",
       "      <td>21.250000</td>\n",
       "      <td>20.700000</td>\n",
       "      <td>20.600000</td>\n",
       "    </tr>\n",
       "    <tr>\n",
       "      <td>75%</td>\n",
       "      <td>571.250000</td>\n",
       "      <td>535.750000</td>\n",
       "      <td>555.500000</td>\n",
       "      <td>580.000000</td>\n",
       "      <td>525.750000</td>\n",
       "      <td>509.250000</td>\n",
       "      <td>513.75000</td>\n",
       "      <td>492.000000</td>\n",
       "      <td>471.000000</td>\n",
       "      <td>502.750000</td>\n",
       "      <td>...</td>\n",
       "      <td>605.250000</td>\n",
       "      <td>604.750000</td>\n",
       "      <td>508.250000</td>\n",
       "      <td>492.500000</td>\n",
       "      <td>551.750000</td>\n",
       "      <td>543.250000</td>\n",
       "      <td>535.000000</td>\n",
       "      <td>492.750000</td>\n",
       "      <td>641.250000</td>\n",
       "      <td>609.250000</td>\n",
       "    </tr>\n",
       "    <tr>\n",
       "      <td>max</td>\n",
       "      <td>1166.000000</td>\n",
       "      <td>1106.000000</td>\n",
       "      <td>1149.000000</td>\n",
       "      <td>1208.000000</td>\n",
       "      <td>1076.000000</td>\n",
       "      <td>1201.000000</td>\n",
       "      <td>1053.00000</td>\n",
       "      <td>998.000000</td>\n",
       "      <td>977.000000</td>\n",
       "      <td>1099.000000</td>\n",
       "      <td>...</td>\n",
       "      <td>1240.000000</td>\n",
       "      <td>1231.000000</td>\n",
       "      <td>1032.000000</td>\n",
       "      <td>1238.000000</td>\n",
       "      <td>1120.000000</td>\n",
       "      <td>1117.000000</td>\n",
       "      <td>1081.000000</td>\n",
       "      <td>1086.000000</td>\n",
       "      <td>1294.000000</td>\n",
       "      <td>1257.000000</td>\n",
       "    </tr>\n",
       "  </tbody>\n",
       "</table>\n",
       "<p>8 rows × 51 columns</p>\n",
       "</div>"
      ],
      "text/plain": [
       "state      Alabama       Alaska      Arizona     Arkansas   California  \\\n",
       "count    20.000000    20.000000    20.000000    20.000000    20.000000   \n",
       "mean    253.175000   237.655000   245.525000   257.700000   232.955000   \n",
       "std     385.078278   360.395474   373.925531   392.929011   350.494792   \n",
       "min       5.000000    18.700000    18.200000     3.000000    22.100000   \n",
       "25%      18.900000    20.275000    19.475000    19.075000    22.650000   \n",
       "50%      19.500000    27.300000    24.550000    19.600000    25.050000   \n",
       "75%     571.250000   535.750000   555.500000   580.000000   525.750000   \n",
       "max    1166.000000  1106.000000  1149.000000  1208.000000  1076.000000   \n",
       "\n",
       "state     Colorado  Connecticut    Delaware  District of Columbia  \\\n",
       "count    20.000000     20.00000   20.000000             20.000000   \n",
       "mean    245.760000    234.99500  222.945000            217.395000   \n",
       "std     366.900869    341.41367  325.444479            313.448568   \n",
       "min      11.000000     24.60000   17.000000             22.700000   \n",
       "25%      21.125000     25.42500   23.400000             23.675000   \n",
       "50%      24.150000     26.05000   24.300000             28.450000   \n",
       "75%     509.250000    513.75000  492.000000            471.000000   \n",
       "max    1201.000000   1053.00000  998.000000            977.000000   \n",
       "\n",
       "state      Florida  ...  South Dakota    Tennessee        Texas         Utah  \\\n",
       "count    20.000000  ...     20.000000    20.000000    20.000000    20.000000   \n",
       "mean    235.380000  ...    264.560000   266.205000   226.180000   245.275000   \n",
       "std     346.329967  ...    406.554509   406.572348   336.481338   373.556672   \n",
       "min      19.000000  ...      3.000000     5.000000    19.500000     3.000000   \n",
       "25%      19.475000  ...     21.575000    19.475000    20.700000    19.900000   \n",
       "50%      38.550000  ...     22.250000    19.900000    31.050000    20.700000   \n",
       "75%     502.750000  ...    605.250000   604.750000   508.250000   492.500000   \n",
       "max    1099.000000  ...   1240.000000  1231.000000  1032.000000  1238.000000   \n",
       "\n",
       "state      Vermont     Virginia   Washington  West Virginia    Wisconsin  \\\n",
       "count    20.000000    20.000000    20.000000      20.000000    20.000000   \n",
       "mean    244.035000   243.095000   235.865000     227.435000   279.005000   \n",
       "std     367.401005   364.728326   354.575759     343.852398   427.913005   \n",
       "min      23.100000    23.300000    20.900000      14.000000     3.000000   \n",
       "25%      23.750000    23.725000    22.000000      20.225000    20.375000   \n",
       "50%      24.650000    24.650000    23.350000      21.250000    20.700000   \n",
       "75%     551.750000   543.250000   535.000000     492.750000   641.250000   \n",
       "max    1120.000000  1117.000000  1081.000000    1086.000000  1294.000000   \n",
       "\n",
       "state      Wyoming  \n",
       "count    20.000000  \n",
       "mean    269.070000  \n",
       "std     411.481194  \n",
       "min       3.000000  \n",
       "25%      19.775000  \n",
       "50%      20.600000  \n",
       "75%     609.250000  \n",
       "max    1257.000000  \n",
       "\n",
       "[8 rows x 51 columns]"
      ]
     },
     "execution_count": 32,
     "metadata": {},
     "output_type": "execute_result"
    }
   ],
   "source": [
    "final.set_index('state').transpose().describe()"
   ]
  },
  {
   "cell_type": "markdown",
   "metadata": {},
   "source": [
    "#### Manually calculate standard deviation\n",
    "\n",
    "$$\\sigma = \\sqrt{\\frac{1}{n}\\sum_{i=1}^n(x_i - \\mu)^2}$$\n",
    "\n",
    "- Write a function to calculate standard deviation using the formula above"
   ]
  },
  {
   "cell_type": "code",
   "execution_count": 33,
   "metadata": {},
   "outputs": [],
   "source": [
    "def standard_deviation(column):\n",
    "    col_mean=sum(column)/len(column)\n",
    "    return (((np.sum([(x - col_mean) ** 2 for x in column])/len(column)))**0.5)"
   ]
  },
  {
   "cell_type": "markdown",
   "metadata": {},
   "source": [
    "- Use a **dictionary comprehension** to apply your standard deviation function to each numeric column in the dataframe.  **No loops**  \n",
    "- Assign the output to variable `sd` as a dictionary where: \n",
    "    - Each column name is now a key \n",
    "    - That standard deviation of the column is the value \n",
    "     \n",
    "*Example Output :* `{'ACT_Math': 120, 'ACT_Reading': 120, ...}`"
   ]
  },
  {
   "cell_type": "code",
   "execution_count": 34,
   "metadata": {},
   "outputs": [
    {
     "data": {
      "text/plain": [
       "{'participation_2017sat': 34.929070766645076,\n",
       " 'read_and_write_2017sat': 45.21697020437866,\n",
       " 'math_2017sat': 46.65713364485504,\n",
       " 'total_2017sat': 91.58351056778743,\n",
       " 'participation_2017act': 31.824175751231806,\n",
       " 'english_2017act': 2.3304876369363368,\n",
       " 'math_2017act': 1.9624620273436781,\n",
       " 'reading_2017act': 2.046902931484265,\n",
       " 'science_2017act': 1.7222161451443672,\n",
       " 'composite_2017act': 2.0007860815819893,\n",
       " 'participation_2018sat': 36.946619223539415,\n",
       " 'read_and_write_2018sat': 47.03460978357609,\n",
       " 'math_2018sat': 47.301945503783536,\n",
       " 'total_2018sat': 93.22742384464432,\n",
       " 'participation_2018act': 33.745194881997506,\n",
       " 'composite_2018act': 2.0855261815801143,\n",
       " 'english_2018act': 2.4222536143202795,\n",
       " 'math_2018act': 2.0157072555557174,\n",
       " 'reading_2018act': 2.1458918845104216,\n",
       " 'science_2018act': 1.8516885484833538}"
      ]
     },
     "execution_count": 34,
     "metadata": {},
     "output_type": "execute_result"
    }
   ],
   "source": [
    "{i:standard_deviation(j) for i,j in final.drop('state',axis=1).items()}"
   ]
  },
  {
   "cell_type": "markdown",
   "metadata": {},
   "source": [
    "Do your manually calculated standard deviations match up with the output from pandas `describe`? What about numpy's `std` method?"
   ]
  },
  {
   "cell_type": "code",
   "execution_count": 35,
   "metadata": {},
   "outputs": [
    {
     "data": {
      "text/plain": [
       "participation_2017sat     35.276632\n",
       "read_and_write_2017sat    45.666901\n",
       "math_2017sat              47.121395\n",
       "total_2017sat             92.494812\n",
       "participation_2017act     32.140842\n",
       "english_2017act            2.353677\n",
       "math_2017act               1.981989\n",
       "reading_2017act            2.067271\n",
       "science_2017act            1.739353\n",
       "composite_2017act          2.020695\n",
       "participation_2018sat     37.314256\n",
       "read_and_write_2018sat    47.502627\n",
       "math_2018sat              47.772623\n",
       "total_2018sat             94.155083\n",
       "participation_2018act     34.080976\n",
       "composite_2018act          2.106278\n",
       "english_2018act            2.446356\n",
       "math_2018act               2.035765\n",
       "reading_2018act            2.167245\n",
       "science_2018act            1.870114\n",
       "dtype: float64"
      ]
     },
     "execution_count": 35,
     "metadata": {},
     "output_type": "execute_result"
    }
   ],
   "source": [
    "final.std()"
   ]
  },
  {
   "cell_type": "markdown",
   "metadata": {},
   "source": [
    "Answer: No. I don't understand what the transpose is trying to do... makes no sense trying to group them on index (what is the point of the standard deviation of values on different scales). The standard deviation was close but still doesn\\`t match with the np.std() function due to the intricacies in float handling."
   ]
  },
  {
   "cell_type": "markdown",
   "metadata": {},
   "source": [
    "#### Investigate trends in the data\n",
    "Using sorting and/or masking (along with the `.head` method to not print our entire dataframe), consider the following questions:\n",
    "\n",
    "- Which states have the highest and lowest participation rates for the:\n",
    "    - 2017 SAT?\n",
    "    - 2018 SAT?\n",
    "    - 2017 ACT?\n",
    "    - 2018 ACT?\n",
    "- Which states have the highest and lowest mean total/composite scores for the:\n",
    "    - 2017 SAT?\n",
    "    - 2018 SAT?\n",
    "    - 2017 ACT?\n",
    "    - 2018 ACT?\n",
    "- Do any states with 100% participation on a given test have a rate change year-to-year?\n",
    "- Do any states show have >50% participation on *both* tests either year?\n",
    "\n",
    "Based on what you've just observed, have you identified any states that you're especially interested in? **Make a note of these and state *why* you think they're interesting**.\n",
    "\n",
    "**You should comment on your findings at each step in a markdown cell below your code block**. Make sure you include at least one example of sorting your dataframe by a column, and one example of using boolean filtering (i.e., masking) to select a subset of the dataframe."
   ]
  },
  {
   "cell_type": "code",
   "execution_count": 36,
   "metadata": {},
   "outputs": [
    {
     "name": "stdout",
     "output_type": "stream",
     "text": [
      "                   state  participation_2017sat\n",
      "8   District of Columbia                  100.0\n",
      "22              Michigan                  100.0\n",
      "6            Connecticut                  100.0\n",
      "7               Delaware                  100.0\n",
      "29         New Hampshire                   96.0\n",
      "           state  participation_2017sat\n",
      "3       Arkansas                    3.0\n",
      "50       Wyoming                    3.0\n",
      "34  North Dakota                    2.0\n",
      "24   Mississippi                    2.0\n",
      "15          Iowa                    2.0\n",
      "          state  participation_2018sat\n",
      "5      Colorado                  100.0\n",
      "6   Connecticut                  100.0\n",
      "7      Delaware                  100.0\n",
      "22     Michigan                  100.0\n",
      "12        Idaho                  100.0\n",
      "           state  participation_2018sat\n",
      "24   Mississippi                    3.0\n",
      "15          Iowa                    3.0\n",
      "49     Wisconsin                    3.0\n",
      "50       Wyoming                    3.0\n",
      "34  North Dakota                    2.0\n",
      "        state  participation_2017act\n",
      "0     Alabama                  100.0\n",
      "17   Kentucky                  100.0\n",
      "49  Wisconsin                  100.0\n",
      "44       Utah                  100.0\n",
      "42  Tennessee                  100.0\n",
      "            state  participation_2017act\n",
      "38   Pennsylvania                   23.0\n",
      "39   Rhode Island                   21.0\n",
      "7        Delaware                   18.0\n",
      "29  New Hampshire                   18.0\n",
      "19          Maine                    8.0\n",
      "        state  participation_2018act\n",
      "0     Alabama                  100.0\n",
      "17   Kentucky                  100.0\n",
      "49  Wisconsin                  100.0\n",
      "44       Utah                  100.0\n",
      "42  Tennessee                  100.0\n",
      "            state  participation_2018act\n",
      "38   Pennsylvania                   20.0\n",
      "7        Delaware                   17.0\n",
      "29  New Hampshire                   16.0\n",
      "39   Rhode Island                   15.0\n",
      "19          Maine                    7.0\n",
      "        state  total_2017sat\n",
      "23  Minnesota           1295\n",
      "49  Wisconsin           1291\n",
      "15       Iowa           1275\n",
      "25   Missouri           1271\n",
      "16     Kansas           1260\n",
      "                   state  total_2017sat\n",
      "19                 Maine           1012\n",
      "12                 Idaho           1005\n",
      "22              Michigan           1005\n",
      "7               Delaware            996\n",
      "8   District of Columbia            950\n",
      "           state  total_2018sat\n",
      "23     Minnesota           1298\n",
      "49     Wisconsin           1294\n",
      "34  North Dakota           1283\n",
      "15          Iowa           1265\n",
      "16        Kansas           1265\n",
      "                   state  total_2018sat\n",
      "11                Hawaii           1010\n",
      "12                 Idaho           1001\n",
      "48         West Virginia            999\n",
      "7               Delaware            998\n",
      "8   District of Columbia            977\n",
      "                   state  composite_2017act\n",
      "29         New Hampshire               25.5\n",
      "21         Massachusetts               25.4\n",
      "6            Connecticut               25.2\n",
      "19                 Maine               24.3\n",
      "8   District of Columbia               24.2\n",
      "             state  composite_2017act\n",
      "33  North Carolina               19.1\n",
      "11          Hawaii               19.0\n",
      "40  South Carolina               18.7\n",
      "24     Mississippi               18.6\n",
      "28          Nevada               17.8\n",
      "            state  composite_2018act\n",
      "6     Connecticut               25.6\n",
      "21  Massachusetts               25.5\n",
      "29  New Hampshire               25.1\n",
      "32       New York               24.5\n",
      "22       Michigan               24.4\n",
      "             state  composite_2018act\n",
      "0          Alabama               19.1\n",
      "11          Hawaii               18.9\n",
      "24     Mississippi               18.6\n",
      "40  South Carolina               18.3\n",
      "28          Nevada               17.7\n"
     ]
    }
   ],
   "source": [
    "def top_btm(a):\n",
    "    sorting=final.sort_values(a,ascending=False)\n",
    "    print(sorting[['state',a]].head())\n",
    "    print(sorting[['state',a]].tail())\n",
    "    \n",
    "top_btm('participation_2017sat')\n",
    "top_btm('participation_2018sat')\n",
    "top_btm('participation_2017act')\n",
    "top_btm('participation_2018act')\n",
    "top_btm('total_2017sat')\n",
    "top_btm('total_2018sat')\n",
    "top_btm('composite_2017act')\n",
    "top_btm('composite_2018act')\n"
   ]
  },
  {
   "cell_type": "markdown",
   "metadata": {},
   "source": [
    "- Do any states with 100% participation on a given test have a rate change year-to-year?\n",
    "- Do any states show have >50% participation on *both* tests either year?\n"
   ]
  },
  {
   "cell_type": "code",
   "execution_count": 37,
   "metadata": {},
   "outputs": [
    {
     "data": {
      "text/html": [
       "<div>\n",
       "<style scoped>\n",
       "    .dataframe tbody tr th:only-of-type {\n",
       "        vertical-align: middle;\n",
       "    }\n",
       "\n",
       "    .dataframe tbody tr th {\n",
       "        vertical-align: top;\n",
       "    }\n",
       "\n",
       "    .dataframe thead th {\n",
       "        text-align: right;\n",
       "    }\n",
       "</style>\n",
       "<table border=\"1\" class=\"dataframe\">\n",
       "  <thead>\n",
       "    <tr style=\"text-align: right;\">\n",
       "      <th></th>\n",
       "      <th>state</th>\n",
       "      <th>participation_2017act</th>\n",
       "      <th>participation_2018act</th>\n",
       "      <th>participation_2017sat</th>\n",
       "      <th>participation_2018sat</th>\n",
       "    </tr>\n",
       "  </thead>\n",
       "  <tbody>\n",
       "    <tr>\n",
       "      <td>6</td>\n",
       "      <td>Connecticut</td>\n",
       "      <td>31.0</td>\n",
       "      <td>26.0</td>\n",
       "      <td>100.0</td>\n",
       "      <td>100.0</td>\n",
       "    </tr>\n",
       "    <tr>\n",
       "      <td>7</td>\n",
       "      <td>Delaware</td>\n",
       "      <td>18.0</td>\n",
       "      <td>17.0</td>\n",
       "      <td>100.0</td>\n",
       "      <td>100.0</td>\n",
       "    </tr>\n",
       "    <tr>\n",
       "      <td>8</td>\n",
       "      <td>District of Columbia</td>\n",
       "      <td>32.0</td>\n",
       "      <td>32.0</td>\n",
       "      <td>100.0</td>\n",
       "      <td>92.0</td>\n",
       "    </tr>\n",
       "    <tr>\n",
       "      <td>22</td>\n",
       "      <td>Michigan</td>\n",
       "      <td>29.0</td>\n",
       "      <td>22.0</td>\n",
       "      <td>100.0</td>\n",
       "      <td>100.0</td>\n",
       "    </tr>\n",
       "  </tbody>\n",
       "</table>\n",
       "</div>"
      ],
      "text/plain": [
       "                   state  participation_2017act  participation_2018act  \\\n",
       "6            Connecticut                   31.0                   26.0   \n",
       "7               Delaware                   18.0                   17.0   \n",
       "8   District of Columbia                   32.0                   32.0   \n",
       "22              Michigan                   29.0                   22.0   \n",
       "\n",
       "    participation_2017sat  participation_2018sat  \n",
       "6                   100.0                  100.0  \n",
       "7                   100.0                  100.0  \n",
       "8                   100.0                   92.0  \n",
       "22                  100.0                  100.0  "
      ]
     },
     "execution_count": 37,
     "metadata": {},
     "output_type": "execute_result"
    }
   ],
   "source": [
    "final[final['participation_2017sat']==100][['state','participation_2017act','participation_2018act'\n",
    "                                           ,'participation_2017sat','participation_2018sat']]\n",
    "# Participation of District of Columbia has dropped by 8%"
   ]
  },
  {
   "cell_type": "code",
   "execution_count": 38,
   "metadata": {},
   "outputs": [
    {
     "data": {
      "text/html": [
       "<div>\n",
       "<style scoped>\n",
       "    .dataframe tbody tr th:only-of-type {\n",
       "        vertical-align: middle;\n",
       "    }\n",
       "\n",
       "    .dataframe tbody tr th {\n",
       "        vertical-align: top;\n",
       "    }\n",
       "\n",
       "    .dataframe thead th {\n",
       "        text-align: right;\n",
       "    }\n",
       "</style>\n",
       "<table border=\"1\" class=\"dataframe\">\n",
       "  <thead>\n",
       "    <tr style=\"text-align: right;\">\n",
       "      <th></th>\n",
       "      <th>state</th>\n",
       "      <th>participation_2017act</th>\n",
       "      <th>participation_2018act</th>\n",
       "      <th>participation_2017sat</th>\n",
       "      <th>participation_2018sat</th>\n",
       "    </tr>\n",
       "  </thead>\n",
       "  <tbody>\n",
       "    <tr>\n",
       "      <td>0</td>\n",
       "      <td>Alabama</td>\n",
       "      <td>100.0</td>\n",
       "      <td>100.0</td>\n",
       "      <td>5.0</td>\n",
       "      <td>6.0</td>\n",
       "    </tr>\n",
       "    <tr>\n",
       "      <td>3</td>\n",
       "      <td>Arkansas</td>\n",
       "      <td>100.0</td>\n",
       "      <td>100.0</td>\n",
       "      <td>3.0</td>\n",
       "      <td>5.0</td>\n",
       "    </tr>\n",
       "    <tr>\n",
       "      <td>5</td>\n",
       "      <td>Colorado</td>\n",
       "      <td>100.0</td>\n",
       "      <td>30.0</td>\n",
       "      <td>11.0</td>\n",
       "      <td>100.0</td>\n",
       "    </tr>\n",
       "    <tr>\n",
       "      <td>17</td>\n",
       "      <td>Kentucky</td>\n",
       "      <td>100.0</td>\n",
       "      <td>100.0</td>\n",
       "      <td>4.0</td>\n",
       "      <td>4.0</td>\n",
       "    </tr>\n",
       "    <tr>\n",
       "      <td>18</td>\n",
       "      <td>Louisiana</td>\n",
       "      <td>100.0</td>\n",
       "      <td>100.0</td>\n",
       "      <td>4.0</td>\n",
       "      <td>4.0</td>\n",
       "    </tr>\n",
       "    <tr>\n",
       "      <td>23</td>\n",
       "      <td>Minnesota</td>\n",
       "      <td>100.0</td>\n",
       "      <td>99.0</td>\n",
       "      <td>3.0</td>\n",
       "      <td>4.0</td>\n",
       "    </tr>\n",
       "    <tr>\n",
       "      <td>24</td>\n",
       "      <td>Mississippi</td>\n",
       "      <td>100.0</td>\n",
       "      <td>100.0</td>\n",
       "      <td>2.0</td>\n",
       "      <td>3.0</td>\n",
       "    </tr>\n",
       "    <tr>\n",
       "      <td>25</td>\n",
       "      <td>Missouri</td>\n",
       "      <td>100.0</td>\n",
       "      <td>100.0</td>\n",
       "      <td>3.0</td>\n",
       "      <td>4.0</td>\n",
       "    </tr>\n",
       "    <tr>\n",
       "      <td>26</td>\n",
       "      <td>Montana</td>\n",
       "      <td>100.0</td>\n",
       "      <td>100.0</td>\n",
       "      <td>10.0</td>\n",
       "      <td>10.0</td>\n",
       "    </tr>\n",
       "    <tr>\n",
       "      <td>28</td>\n",
       "      <td>Nevada</td>\n",
       "      <td>100.0</td>\n",
       "      <td>100.0</td>\n",
       "      <td>26.0</td>\n",
       "      <td>23.0</td>\n",
       "    </tr>\n",
       "    <tr>\n",
       "      <td>33</td>\n",
       "      <td>North Carolina</td>\n",
       "      <td>100.0</td>\n",
       "      <td>100.0</td>\n",
       "      <td>49.0</td>\n",
       "      <td>52.0</td>\n",
       "    </tr>\n",
       "    <tr>\n",
       "      <td>36</td>\n",
       "      <td>Oklahoma</td>\n",
       "      <td>100.0</td>\n",
       "      <td>100.0</td>\n",
       "      <td>7.0</td>\n",
       "      <td>8.0</td>\n",
       "    </tr>\n",
       "    <tr>\n",
       "      <td>40</td>\n",
       "      <td>South Carolina</td>\n",
       "      <td>100.0</td>\n",
       "      <td>100.0</td>\n",
       "      <td>50.0</td>\n",
       "      <td>55.0</td>\n",
       "    </tr>\n",
       "    <tr>\n",
       "      <td>42</td>\n",
       "      <td>Tennessee</td>\n",
       "      <td>100.0</td>\n",
       "      <td>100.0</td>\n",
       "      <td>5.0</td>\n",
       "      <td>6.0</td>\n",
       "    </tr>\n",
       "    <tr>\n",
       "      <td>44</td>\n",
       "      <td>Utah</td>\n",
       "      <td>100.0</td>\n",
       "      <td>100.0</td>\n",
       "      <td>3.0</td>\n",
       "      <td>4.0</td>\n",
       "    </tr>\n",
       "    <tr>\n",
       "      <td>49</td>\n",
       "      <td>Wisconsin</td>\n",
       "      <td>100.0</td>\n",
       "      <td>100.0</td>\n",
       "      <td>3.0</td>\n",
       "      <td>3.0</td>\n",
       "    </tr>\n",
       "    <tr>\n",
       "      <td>50</td>\n",
       "      <td>Wyoming</td>\n",
       "      <td>100.0</td>\n",
       "      <td>100.0</td>\n",
       "      <td>3.0</td>\n",
       "      <td>3.0</td>\n",
       "    </tr>\n",
       "  </tbody>\n",
       "</table>\n",
       "</div>"
      ],
      "text/plain": [
       "             state  participation_2017act  participation_2018act  \\\n",
       "0          Alabama                  100.0                  100.0   \n",
       "3         Arkansas                  100.0                  100.0   \n",
       "5         Colorado                  100.0                   30.0   \n",
       "17        Kentucky                  100.0                  100.0   \n",
       "18       Louisiana                  100.0                  100.0   \n",
       "23       Minnesota                  100.0                   99.0   \n",
       "24     Mississippi                  100.0                  100.0   \n",
       "25        Missouri                  100.0                  100.0   \n",
       "26         Montana                  100.0                  100.0   \n",
       "28          Nevada                  100.0                  100.0   \n",
       "33  North Carolina                  100.0                  100.0   \n",
       "36        Oklahoma                  100.0                  100.0   \n",
       "40  South Carolina                  100.0                  100.0   \n",
       "42       Tennessee                  100.0                  100.0   \n",
       "44            Utah                  100.0                  100.0   \n",
       "49       Wisconsin                  100.0                  100.0   \n",
       "50         Wyoming                  100.0                  100.0   \n",
       "\n",
       "    participation_2017sat  participation_2018sat  \n",
       "0                     5.0                    6.0  \n",
       "3                     3.0                    5.0  \n",
       "5                    11.0                  100.0  \n",
       "17                    4.0                    4.0  \n",
       "18                    4.0                    4.0  \n",
       "23                    3.0                    4.0  \n",
       "24                    2.0                    3.0  \n",
       "25                    3.0                    4.0  \n",
       "26                   10.0                   10.0  \n",
       "28                   26.0                   23.0  \n",
       "33                   49.0                   52.0  \n",
       "36                    7.0                    8.0  \n",
       "40                   50.0                   55.0  \n",
       "42                    5.0                    6.0  \n",
       "44                    3.0                    4.0  \n",
       "49                    3.0                    3.0  \n",
       "50                    3.0                    3.0  "
      ]
     },
     "execution_count": 38,
     "metadata": {},
     "output_type": "execute_result"
    }
   ],
   "source": [
    "final[final['participation_2017act']==100][['state','participation_2017act','participation_2018act'\n",
    "                                           ,'participation_2017sat','participation_2018sat']]\n",
    "#participation for Colorado dropped"
   ]
  },
  {
   "cell_type": "code",
   "execution_count": 39,
   "metadata": {},
   "outputs": [
    {
     "data": {
      "text/html": [
       "<div>\n",
       "<style scoped>\n",
       "    .dataframe tbody tr th:only-of-type {\n",
       "        vertical-align: middle;\n",
       "    }\n",
       "\n",
       "    .dataframe tbody tr th {\n",
       "        vertical-align: top;\n",
       "    }\n",
       "\n",
       "    .dataframe thead th {\n",
       "        text-align: right;\n",
       "    }\n",
       "</style>\n",
       "<table border=\"1\" class=\"dataframe\">\n",
       "  <thead>\n",
       "    <tr style=\"text-align: right;\">\n",
       "      <th></th>\n",
       "      <th>state</th>\n",
       "      <th>participation_2017act</th>\n",
       "      <th>participation_2018act</th>\n",
       "      <th>participation_2017sat</th>\n",
       "      <th>participation_2018sat</th>\n",
       "    </tr>\n",
       "  </thead>\n",
       "  <tbody>\n",
       "    <tr>\n",
       "      <td>9</td>\n",
       "      <td>Florida</td>\n",
       "      <td>73.0</td>\n",
       "      <td>66.0</td>\n",
       "      <td>83.0</td>\n",
       "      <td>56.0</td>\n",
       "    </tr>\n",
       "    <tr>\n",
       "      <td>10</td>\n",
       "      <td>Georgia</td>\n",
       "      <td>55.0</td>\n",
       "      <td>53.0</td>\n",
       "      <td>61.0</td>\n",
       "      <td>70.0</td>\n",
       "    </tr>\n",
       "    <tr>\n",
       "      <td>11</td>\n",
       "      <td>Hawaii</td>\n",
       "      <td>90.0</td>\n",
       "      <td>89.0</td>\n",
       "      <td>55.0</td>\n",
       "      <td>56.0</td>\n",
       "    </tr>\n",
       "  </tbody>\n",
       "</table>\n",
       "</div>"
      ],
      "text/plain": [
       "      state  participation_2017act  participation_2018act  \\\n",
       "9   Florida                   73.0                   66.0   \n",
       "10  Georgia                   55.0                   53.0   \n",
       "11   Hawaii                   90.0                   89.0   \n",
       "\n",
       "    participation_2017sat  participation_2018sat  \n",
       "9                    83.0                   56.0  \n",
       "10                   61.0                   70.0  \n",
       "11                   55.0                   56.0  "
      ]
     },
     "execution_count": 39,
     "metadata": {},
     "output_type": "execute_result"
    }
   ],
   "source": [
    "final[(final.participation_2017sat>50) & \n",
    "      (final.participation_2017act>50)][['state','participation_2017act','participation_2018act',\n",
    "                                         'participation_2017sat','participation_2018sat']]"
   ]
  },
  {
   "cell_type": "code",
   "execution_count": 40,
   "metadata": {},
   "outputs": [
    {
     "data": {
      "text/html": [
       "<div>\n",
       "<style scoped>\n",
       "    .dataframe tbody tr th:only-of-type {\n",
       "        vertical-align: middle;\n",
       "    }\n",
       "\n",
       "    .dataframe tbody tr th {\n",
       "        vertical-align: top;\n",
       "    }\n",
       "\n",
       "    .dataframe thead th {\n",
       "        text-align: right;\n",
       "    }\n",
       "</style>\n",
       "<table border=\"1\" class=\"dataframe\">\n",
       "  <thead>\n",
       "    <tr style=\"text-align: right;\">\n",
       "      <th></th>\n",
       "      <th>state</th>\n",
       "      <th>participation_2017act</th>\n",
       "      <th>participation_2018act</th>\n",
       "      <th>participation_2017sat</th>\n",
       "      <th>participation_2018sat</th>\n",
       "    </tr>\n",
       "  </thead>\n",
       "  <tbody>\n",
       "    <tr>\n",
       "      <td>9</td>\n",
       "      <td>Florida</td>\n",
       "      <td>73.0</td>\n",
       "      <td>66.0</td>\n",
       "      <td>83.0</td>\n",
       "      <td>56.0</td>\n",
       "    </tr>\n",
       "    <tr>\n",
       "      <td>10</td>\n",
       "      <td>Georgia</td>\n",
       "      <td>55.0</td>\n",
       "      <td>53.0</td>\n",
       "      <td>61.0</td>\n",
       "      <td>70.0</td>\n",
       "    </tr>\n",
       "    <tr>\n",
       "      <td>11</td>\n",
       "      <td>Hawaii</td>\n",
       "      <td>90.0</td>\n",
       "      <td>89.0</td>\n",
       "      <td>55.0</td>\n",
       "      <td>56.0</td>\n",
       "    </tr>\n",
       "    <tr>\n",
       "      <td>33</td>\n",
       "      <td>North Carolina</td>\n",
       "      <td>100.0</td>\n",
       "      <td>100.0</td>\n",
       "      <td>49.0</td>\n",
       "      <td>52.0</td>\n",
       "    </tr>\n",
       "    <tr>\n",
       "      <td>40</td>\n",
       "      <td>South Carolina</td>\n",
       "      <td>100.0</td>\n",
       "      <td>100.0</td>\n",
       "      <td>50.0</td>\n",
       "      <td>55.0</td>\n",
       "    </tr>\n",
       "  </tbody>\n",
       "</table>\n",
       "</div>"
      ],
      "text/plain": [
       "             state  participation_2017act  participation_2018act  \\\n",
       "9          Florida                   73.0                   66.0   \n",
       "10         Georgia                   55.0                   53.0   \n",
       "11          Hawaii                   90.0                   89.0   \n",
       "33  North Carolina                  100.0                  100.0   \n",
       "40  South Carolina                  100.0                  100.0   \n",
       "\n",
       "    participation_2017sat  participation_2018sat  \n",
       "9                    83.0                   56.0  \n",
       "10                   61.0                   70.0  \n",
       "11                   55.0                   56.0  \n",
       "33                   49.0                   52.0  \n",
       "40                   50.0                   55.0  "
      ]
     },
     "execution_count": 40,
     "metadata": {},
     "output_type": "execute_result"
    }
   ],
   "source": [
    "final[(final.participation_2018sat>50) & \n",
    "      (final.participation_2018act>50)][['state','participation_2017act','participation_2018act',\n",
    "                                         'participation_2017sat','participation_2018sat']]"
   ]
  },
  {
   "cell_type": "code",
   "execution_count": 41,
   "metadata": {},
   "outputs": [
    {
     "data": {
      "text/html": [
       "<div>\n",
       "<style scoped>\n",
       "    .dataframe tbody tr th:only-of-type {\n",
       "        vertical-align: middle;\n",
       "    }\n",
       "\n",
       "    .dataframe tbody tr th {\n",
       "        vertical-align: top;\n",
       "    }\n",
       "\n",
       "    .dataframe thead th {\n",
       "        text-align: right;\n",
       "    }\n",
       "</style>\n",
       "<table border=\"1\" class=\"dataframe\">\n",
       "  <thead>\n",
       "    <tr style=\"text-align: right;\">\n",
       "      <th></th>\n",
       "      <th>state</th>\n",
       "      <th>participation_2017act</th>\n",
       "      <th>participation_2018act</th>\n",
       "      <th>participation_2017sat</th>\n",
       "      <th>participation_2018sat</th>\n",
       "    </tr>\n",
       "  </thead>\n",
       "  <tbody>\n",
       "    <tr>\n",
       "      <td>37</td>\n",
       "      <td>Oregon</td>\n",
       "      <td>40.0</td>\n",
       "      <td>42.0</td>\n",
       "      <td>43.0</td>\n",
       "      <td>48.0</td>\n",
       "    </tr>\n",
       "  </tbody>\n",
       "</table>\n",
       "</div>"
      ],
      "text/plain": [
       "     state  participation_2017act  participation_2018act  \\\n",
       "37  Oregon                   40.0                   42.0   \n",
       "\n",
       "    participation_2017sat  participation_2018sat  \n",
       "37                   43.0                   48.0  "
      ]
     },
     "execution_count": 41,
     "metadata": {},
     "output_type": "execute_result"
    }
   ],
   "source": [
    "final[(final.participation_2017sat<50) & \n",
    "      (final.participation_2017act<50)][['state','participation_2017act','participation_2018act',\n",
    "                                         'participation_2017sat','participation_2018sat']]"
   ]
  },
  {
   "cell_type": "markdown",
   "metadata": {},
   "source": [
    "I think Oregon is very interesting since the sum of the participation for both act and sat in both year is does not exceed 100% (ie. some students do not take either test). Colorado also seemed to make a big shift from act to sat in 2018."
   ]
  },
  {
   "cell_type": "markdown",
   "metadata": {},
   "source": [
    "## Visualize the data\n",
    "\n",
    "There's not a magic bullet recommendation for the right number of plots to understand a given dataset, but visualizing your data is *always* a good idea. Not only does it allow you to quickly convey your findings (even if you have a non-technical audience), it will often reveal trends in your data that escaped you when you were looking only at numbers.\n",
    "\n",
    "Some recommendations on plotting:\n",
    "- Plots have titles\n",
    "- Plots have axis labels\n",
    "- Plots have appropriate tick labels\n",
    "- All text is legible in a plot\n",
    "- Plots demonstrate meaningful and valid relationships\n",
    "- Plots are interpreted to aid understanding\n",
    "\n",
    "There is such a thing as too many plots, and there are a *lot* of bad plots. You might make some! (But hopefully not with the guided prompts below)."
   ]
  },
  {
   "cell_type": "markdown",
   "metadata": {},
   "source": [
    "#### Use Seaborn's heatmap with pandas `.corr()` to visualize correlations between all numeric features\n",
    "\n",
    "Heatmaps are generally not appropriate for presentations, and should often be excluded from reports as they can be visually overwhelming. **However**, they can be extremely useful in identify relationships of potential interest (as well as identifying potential collinearity before modeling).\n",
    "\n",
    "*example*:\n",
    "```python\n",
    "sns.heatmap(df.corr())\n",
    "```\n",
    "\n",
    "Please take time to format your output, adding a title. Look through some of the additional arguments and options. (Axis labels aren't really necessary, as long as the title is informative)."
   ]
  },
  {
   "cell_type": "code",
   "execution_count": 42,
   "metadata": {},
   "outputs": [
    {
     "data": {
      "image/png": "[encoded data removed]",
      "text/plain": [
       "<Figure size 432x288 with 2 Axes>"
      ]
     },
     "metadata": {
      "needs_background": "light"
     },
     "output_type": "display_data"
    }
   ],
   "source": [
    "plt.title('SAT/ACT Correlation in 2017 and 2018')\n",
    "sns.heatmap(final.corr());"
   ]
  },
  {
   "cell_type": "markdown",
   "metadata": {},
   "source": [
    "#### Define a custom function to subplot histograms\n",
    "\n",
    "We have data for two tests for two years. We only have composite (and not subtest scores) for the 2018 ACT. We should write a function that will take the names of 2+ columns and subplot histograms. While you can use pandas plotting or Seaborn here, matplotlib gives you greater control over all aspects of your plots.\n",
    "\n",
    "[Helpful Link for Plotting Multiple Figures](https://matplotlib.org/users/pyplot_tutorial.html#working-with-multiple-figures-and-axes)\n",
    "\n",
    "Here's some starter code:"
   ]
  },
  {
   "cell_type": "code",
   "execution_count": 43,
   "metadata": {},
   "outputs": [],
   "source": [
    "def subplot_histograms(dataframe, list_of_columns, list_of_titles, list_of_xlabels):\n",
    "    nrows = int(np.ceil(len(list_of_columns)/2)) # Makes sure you have enough rows\n",
    "    fig, ax = plt.subplots(nrows=nrows, ncols=2, figsize = (16,36)) # You'll want to specify your figsize\n",
    "    ax = ax.ravel() # Ravel turns a matrix into a vector, which is easier to iterate\n",
    "    for i, column in enumerate(list_of_columns): # Gives us an index value to get into all our lists\n",
    "        ax[i].hist(dataframe[column],bins=20) # feel free to add more settings\n",
    "        # Set titles, labels, etc here for each subplot\n",
    "        ax[i].set_title(list_of_titles[i])\n",
    "        ax[i].set_xlabel(list_of_xlabels[i])"
   ]
  },
  {
   "cell_type": "markdown",
   "metadata": {},
   "source": [
    "#### Plot and interpret histograms \n",
    "For each of the following:\n",
    "- Participation rates for SAT & ACT\n",
    "- Math scores for SAT & ACT\n",
    "- Reading/verbal scores for SAT & ACT"
   ]
  },
  {
   "cell_type": "code",
   "execution_count": 44,
   "metadata": {},
   "outputs": [
    {
     "data": {
      "image/png": "[encoded data removed]",
      "text/plain": [
       "<Figure size 1152x2592 with 12 Axes>"
      ]
     },
     "metadata": {
      "needs_background": "light"
     },
     "output_type": "display_data"
    }
   ],
   "source": [
    "list_of_titles=['Distribution of ACT participation in 2017','Distribution of SAT participation in 2017',\n",
    "                'Distribution of ACT participation in 2018','Distribution of SAT participation in 2018', \n",
    "                          'Distribution of ACT math score in 2017','Distribution of SAT math score in 2017',\n",
    "                'Distribution of ACT math score in 2018','Distribution of SAT math score in 2017',\n",
    "                         'Distribution of ACT writing/reading score in 2017','Distribution of SAT writing/reading score in 2017',\n",
    "                'Distribution of ACT writing/reading score in 2018','Distribution of SAT writing/reading score in 2018']\n",
    "list_of_xlabels=['Percentage of participation','Percentage of participation','Percentage of participation','Percentage of participation', \n",
    "                          'Math score','Math score','Math score','Math score',\n",
    "                         'Writing/Reading score','Writing/Reading score','Writing/Reading score','Writing/Reading score']\n",
    "subplot_histograms(final,['participation_2017act','participation_2017sat','participation_2018act','participation_2018sat', \n",
    "                          'math_2017act','math_2017sat','math_2018act','math_2018sat',\n",
    "                         'reading_2017act','read_and_write_2017sat','reading_2018act','read_and_write_2018sat'],list_of_titles,list_of_xlabels)"
   ]
  },
  {
   "cell_type": "markdown",
   "metadata": {},
   "source": [
    "Participation rate of both test does not seem to change much overall in the one year. There is also seems to be little change the math or reading/writing score. Somehow it seems that the scores obtained from the schools shows 2 peaks but neither poisson, binomial nor normal."
   ]
  },
  {
   "cell_type": "markdown",
   "metadata": {},
   "source": [
    "#### Plot and interpret scatter plots\n",
    "\n",
    "For each of the following:\n",
    "- SAT vs. ACT math scores for 2017\n",
    "- SAT vs. ACT verbal/reading scores for 2017\n",
    "- SAT vs. ACT total/composite scores for 2017\n",
    "- Total scores for SAT 2017 vs. 2018\n",
    "- Composite scores for ACT 2017 vs. 2018\n",
    "\n",
    "Plot the two variables against each other using matplotlib or Seaborn\n",
    "\n",
    "Your plots should show:\n",
    "- Two clearly labeled axes\n",
    "- A proper title\n",
    "- Using colors and symbols that are clear and unmistakable\n",
    "\n",
    "**Feel free to write a custom function, and subplot if you'd like.** Functions save both time and space.\n"
   ]
  },
  {
   "cell_type": "code",
   "execution_count": 45,
   "metadata": {},
   "outputs": [],
   "source": [
    "# adapted from code above\n",
    "def subplot_scatter(dataframe, list1_of_columns, list2_of_columns, list_of_titles):\n",
    "    nrows = int(np.ceil(len(list1_of_columns)/2)) \n",
    "    fig, ax = plt.subplots(nrows=nrows, ncols=2, figsize = (16,36))\n",
    "    ax = ax.ravel() \n",
    "    for i, column in enumerate(list1_of_columns):\n",
    "        ax[i].scatter(dataframe[list1_of_columns[i]],dataframe[list2_of_columns[i]]) \n",
    "        ax[i].set_title(list_of_titles[i])\n",
    "        ax[i].set_xlabel(list1_of_columns[i])\n",
    "        ax[i].set_ylabel(list2_of_columns[i])"
   ]
  },
  {
   "cell_type": "code",
   "execution_count": 46,
   "metadata": {},
   "outputs": [
    {
     "data": {
      "image/png": "[encoded data removed]",
      "text/plain": [
       "<Figure size 1152x2592 with 6 Axes>"
      ]
     },
     "metadata": {
      "needs_background": "light"
     },
     "output_type": "display_data"
    }
   ],
   "source": [
    "list1_of_columns=['math_2017sat','read_and_write_2017sat','total_2017sat','total_2017sat','composite_2017act']\n",
    "list2_of_columns=['math_2017act','reading_2017act','composite_2017act','total_2018sat','composite_2018act']\n",
    "list_of_titles2=['SAT/ACT math scores for 2017',\n",
    "                'SAT/ACT verbal/reading scores for 2017',\n",
    "                'SAT/ACT total/composite scores for 2017',\n",
    "                'Total scores for SAT 2017/2018',\n",
    "                'Composite scores for ACT 2017/2018',]\n",
    "subplot_scatter(final,list1_of_columns,list2_of_columns,list_of_titles2)"
   ]
  },
  {
   "cell_type": "markdown",
   "metadata": {},
   "source": [
    "It seems that the composite and total scores of ACT and SAT are linearly related with their previous year which make sense since we do not expect schools to score that differently across a year. "
   ]
  },
  {
   "cell_type": "markdown",
   "metadata": {},
   "source": [
    "#### Plot and interpret boxplots\n",
    "\n",
    "For each numeric variable in the dataframe create a boxplot using Seaborn. Boxplots demonstrate central tendency and spread in variables. In a certain sense, these are somewhat redundant with histograms, but you may be better able to identify clear outliers or differences in IQR, etc.\n",
    "\n",
    "Multiple values can be plotted to a single boxplot as long as they are of the same relative scale (meaning they have similar min/max values).\n",
    "\n",
    "Each boxplot should:\n",
    "- Only include variables of a similar scale\n",
    "- Have clear labels for each variable\n",
    "- Have appropriate titles and labels"
   ]
  },
  {
   "cell_type": "code",
   "execution_count": 47,
   "metadata": {},
   "outputs": [
    {
     "data": {
      "image/png": "[encoded data removed]",
      "text/plain": [
       "<Figure size 432x288 with 1 Axes>"
      ]
     },
     "metadata": {
      "needs_background": "light"
     },
     "output_type": "display_data"
    }
   ],
   "source": [
    "# the stuff inside data is just trying to filter the score\n",
    "sns.boxplot(data=final[['read_and_write_2017sat','read_and_write_2018sat','math_2017sat','math_2018sat']],orient='h').set_title('SAT scores');\n"
   ]
  },
  {
   "cell_type": "code",
   "execution_count": 48,
   "metadata": {
    "scrolled": true
   },
   "outputs": [
    {
     "data": {
      "image/png": "[encoded data removed]",
      "text/plain": [
       "<Figure size 432x288 with 1 Axes>"
      ]
     },
     "metadata": {
      "needs_background": "light"
     },
     "output_type": "display_data"
    }
   ],
   "source": [
    "participate=list(final.columns[final.columns.str.contains('participation')])\n",
    "sns.boxplot(data=final[participate], orient='h').set_title('Participation rates');"
   ]
  },
  {
   "cell_type": "code",
   "execution_count": 49,
   "metadata": {},
   "outputs": [
    {
     "data": {
      "image/png": "[encoded data removed]",
      "text/plain": [
       "<Figure size 432x288 with 1 Axes>"
      ]
     },
     "metadata": {
      "needs_background": "light"
     },
     "output_type": "display_data"
    }
   ],
   "source": [
    "act=list(final.columns[final.columns.str.contains('act')])\n",
    "sns.boxplot(data=final[act].drop(['participation_2017act','participation_2018act'],axis=1),orient='h').set_title('ACT scores');"
   ]
  },
  {
   "cell_type": "markdown",
   "metadata": {},
   "source": [
    "#### Feel free to do additional plots below\n",
    "*(do research and choose your own chart types & variables)*\n",
    "\n",
    "Are there any additional trends or relationships you haven't explored? Was there something interesting you saw that you'd like to dive further into? It's likely that there are a few more plots you might want to generate to support your narrative and recommendations that you are building toward. **As always, make sure you're interpreting your plots as you go**."
   ]
  },
  {
   "cell_type": "code",
   "execution_count": null,
   "metadata": {},
   "outputs": [],
   "source": []
  },
  {
   "cell_type": "markdown",
   "metadata": {},
   "source": [
    "#### (Optional): Using Tableau, create a choropleth map for each variable using a map of the US. \n",
    "\n",
    "Save this plot as an image file in an images directory, provide a relative path, and insert the image into notebook in markdown."
   ]
  },
  {
   "cell_type": "code",
   "execution_count": null,
   "metadata": {},
   "outputs": [],
   "source": []
  },
  {
   "cell_type": "markdown",
   "metadata": {},
   "source": [
    "## Descriptive and Inferential Statistics"
   ]
  },
  {
   "cell_type": "markdown",
   "metadata": {},
   "source": [
    "#### Summarizing Distributions\n",
    "\n",
    "Above, we used pandas `describe` to provide quick summary statistics of our numeric columns. We also demonstrated many visual relationships.\n",
    "\n",
    "As data scientists, having a complete understanding of data is imperative prior to modeling.\n",
    "\n",
    "While we will continue to build our analytic tools, we know that measures of *central tendency*, *spread*, and *shape/skewness* provide a quick summary of distributions.\n",
    "\n",
    "For each variable in your data, summarize the underlying distributions (in words & statistics)\n",
    " - Be thorough in your verbal description of these distributions.\n",
    " - Be sure to back up these summaries with statistics."
   ]
  },
  {
   "cell_type": "code",
   "execution_count": 50,
   "metadata": {
    "scrolled": true
   },
   "outputs": [],
   "source": [
    "final=final.set_index('state')"
   ]
  },
  {
   "cell_type": "code",
   "execution_count": 51,
   "metadata": {},
   "outputs": [
    {
     "name": "stdout",
     "output_type": "stream",
     "text": [
      "[ 0.33617544  0.2646066   0.35421486  0.30168335 -0.19211796  0.34220217\n",
      "  0.32281744  0.26137792  0.21233391  0.31032556  0.13218843  0.27392797\n",
      "  0.51467778  0.45259949 -0.02126566  0.27360044  0.36048942  0.26155413\n",
      "  0.19538991  0.16727084]\n"
     ]
    },
    {
     "data": {
      "text/html": [
       "<div>\n",
       "<style scoped>\n",
       "    .dataframe tbody tr th:only-of-type {\n",
       "        vertical-align: middle;\n",
       "    }\n",
       "\n",
       "    .dataframe tbody tr th {\n",
       "        vertical-align: top;\n",
       "    }\n",
       "\n",
       "    .dataframe thead th {\n",
       "        text-align: right;\n",
       "    }\n",
       "</style>\n",
       "<table border=\"1\" class=\"dataframe\">\n",
       "  <thead>\n",
       "    <tr style=\"text-align: right;\">\n",
       "      <th></th>\n",
       "      <th>participation_2017sat</th>\n",
       "      <th>read_and_write_2017sat</th>\n",
       "      <th>math_2017sat</th>\n",
       "      <th>total_2017sat</th>\n",
       "      <th>participation_2017act</th>\n",
       "      <th>english_2017act</th>\n",
       "      <th>math_2017act</th>\n",
       "      <th>reading_2017act</th>\n",
       "      <th>science_2017act</th>\n",
       "      <th>composite_2017act</th>\n",
       "      <th>participation_2018sat</th>\n",
       "      <th>read_and_write_2018sat</th>\n",
       "      <th>math_2018sat</th>\n",
       "      <th>total_2018sat</th>\n",
       "      <th>participation_2018act</th>\n",
       "      <th>composite_2018act</th>\n",
       "      <th>english_2018act</th>\n",
       "      <th>math_2018act</th>\n",
       "      <th>reading_2018act</th>\n",
       "      <th>science_2018act</th>\n",
       "    </tr>\n",
       "  </thead>\n",
       "  <tbody>\n",
       "    <tr>\n",
       "      <td>count</td>\n",
       "      <td>51.000000</td>\n",
       "      <td>51.000000</td>\n",
       "      <td>51.000000</td>\n",
       "      <td>51.000000</td>\n",
       "      <td>51.000000</td>\n",
       "      <td>51.000000</td>\n",
       "      <td>51.000000</td>\n",
       "      <td>51.000000</td>\n",
       "      <td>51.000000</td>\n",
       "      <td>51.000000</td>\n",
       "      <td>51.000000</td>\n",
       "      <td>51.000000</td>\n",
       "      <td>51.000000</td>\n",
       "      <td>51.000000</td>\n",
       "      <td>51.000000</td>\n",
       "      <td>51.000000</td>\n",
       "      <td>51.000000</td>\n",
       "      <td>51.000000</td>\n",
       "      <td>51.000000</td>\n",
       "      <td>51.000000</td>\n",
       "    </tr>\n",
       "    <tr>\n",
       "      <td>mean</td>\n",
       "      <td>39.803922</td>\n",
       "      <td>569.117647</td>\n",
       "      <td>556.882353</td>\n",
       "      <td>1126.098039</td>\n",
       "      <td>65.254902</td>\n",
       "      <td>20.931373</td>\n",
       "      <td>21.182353</td>\n",
       "      <td>22.013725</td>\n",
       "      <td>21.450980</td>\n",
       "      <td>21.519608</td>\n",
       "      <td>45.745098</td>\n",
       "      <td>563.686275</td>\n",
       "      <td>556.235294</td>\n",
       "      <td>1120.019608</td>\n",
       "      <td>61.647059</td>\n",
       "      <td>21.486275</td>\n",
       "      <td>20.988235</td>\n",
       "      <td>21.125490</td>\n",
       "      <td>22.015686</td>\n",
       "      <td>21.345098</td>\n",
       "    </tr>\n",
       "    <tr>\n",
       "      <td>std</td>\n",
       "      <td>35.276632</td>\n",
       "      <td>45.666901</td>\n",
       "      <td>47.121395</td>\n",
       "      <td>92.494812</td>\n",
       "      <td>32.140842</td>\n",
       "      <td>2.353677</td>\n",
       "      <td>1.981989</td>\n",
       "      <td>2.067271</td>\n",
       "      <td>1.739353</td>\n",
       "      <td>2.020695</td>\n",
       "      <td>37.314256</td>\n",
       "      <td>47.502627</td>\n",
       "      <td>47.772623</td>\n",
       "      <td>94.155083</td>\n",
       "      <td>34.080976</td>\n",
       "      <td>2.106278</td>\n",
       "      <td>2.446356</td>\n",
       "      <td>2.035765</td>\n",
       "      <td>2.167245</td>\n",
       "      <td>1.870114</td>\n",
       "    </tr>\n",
       "    <tr>\n",
       "      <td>min</td>\n",
       "      <td>2.000000</td>\n",
       "      <td>482.000000</td>\n",
       "      <td>468.000000</td>\n",
       "      <td>950.000000</td>\n",
       "      <td>8.000000</td>\n",
       "      <td>16.300000</td>\n",
       "      <td>18.000000</td>\n",
       "      <td>18.100000</td>\n",
       "      <td>18.200000</td>\n",
       "      <td>17.800000</td>\n",
       "      <td>2.000000</td>\n",
       "      <td>480.000000</td>\n",
       "      <td>480.000000</td>\n",
       "      <td>977.000000</td>\n",
       "      <td>7.000000</td>\n",
       "      <td>17.700000</td>\n",
       "      <td>16.600000</td>\n",
       "      <td>17.800000</td>\n",
       "      <td>18.000000</td>\n",
       "      <td>17.900000</td>\n",
       "    </tr>\n",
       "    <tr>\n",
       "      <td>25%</td>\n",
       "      <td>4.000000</td>\n",
       "      <td>533.500000</td>\n",
       "      <td>523.500000</td>\n",
       "      <td>1055.500000</td>\n",
       "      <td>31.000000</td>\n",
       "      <td>19.000000</td>\n",
       "      <td>19.400000</td>\n",
       "      <td>20.450000</td>\n",
       "      <td>19.950000</td>\n",
       "      <td>19.800000</td>\n",
       "      <td>4.500000</td>\n",
       "      <td>534.500000</td>\n",
       "      <td>522.500000</td>\n",
       "      <td>1057.500000</td>\n",
       "      <td>28.500000</td>\n",
       "      <td>19.950000</td>\n",
       "      <td>19.100000</td>\n",
       "      <td>19.400000</td>\n",
       "      <td>20.450000</td>\n",
       "      <td>19.850000</td>\n",
       "    </tr>\n",
       "    <tr>\n",
       "      <td>50%</td>\n",
       "      <td>38.000000</td>\n",
       "      <td>559.000000</td>\n",
       "      <td>548.000000</td>\n",
       "      <td>1107.000000</td>\n",
       "      <td>69.000000</td>\n",
       "      <td>20.700000</td>\n",
       "      <td>20.900000</td>\n",
       "      <td>21.800000</td>\n",
       "      <td>21.300000</td>\n",
       "      <td>21.400000</td>\n",
       "      <td>52.000000</td>\n",
       "      <td>552.000000</td>\n",
       "      <td>544.000000</td>\n",
       "      <td>1098.000000</td>\n",
       "      <td>66.000000</td>\n",
       "      <td>21.300000</td>\n",
       "      <td>20.200000</td>\n",
       "      <td>20.700000</td>\n",
       "      <td>21.600000</td>\n",
       "      <td>21.100000</td>\n",
       "    </tr>\n",
       "    <tr>\n",
       "      <td>75%</td>\n",
       "      <td>66.000000</td>\n",
       "      <td>613.000000</td>\n",
       "      <td>599.000000</td>\n",
       "      <td>1212.000000</td>\n",
       "      <td>100.000000</td>\n",
       "      <td>23.300000</td>\n",
       "      <td>23.100000</td>\n",
       "      <td>24.150000</td>\n",
       "      <td>23.200000</td>\n",
       "      <td>23.600000</td>\n",
       "      <td>77.500000</td>\n",
       "      <td>610.500000</td>\n",
       "      <td>593.500000</td>\n",
       "      <td>1204.000000</td>\n",
       "      <td>100.000000</td>\n",
       "      <td>23.550000</td>\n",
       "      <td>23.700000</td>\n",
       "      <td>23.150000</td>\n",
       "      <td>24.100000</td>\n",
       "      <td>23.050000</td>\n",
       "    </tr>\n",
       "    <tr>\n",
       "      <td>max</td>\n",
       "      <td>100.000000</td>\n",
       "      <td>644.000000</td>\n",
       "      <td>651.000000</td>\n",
       "      <td>1295.000000</td>\n",
       "      <td>100.000000</td>\n",
       "      <td>25.500000</td>\n",
       "      <td>25.300000</td>\n",
       "      <td>26.000000</td>\n",
       "      <td>24.900000</td>\n",
       "      <td>25.500000</td>\n",
       "      <td>100.000000</td>\n",
       "      <td>643.000000</td>\n",
       "      <td>655.000000</td>\n",
       "      <td>1298.000000</td>\n",
       "      <td>100.000000</td>\n",
       "      <td>25.600000</td>\n",
       "      <td>26.000000</td>\n",
       "      <td>25.200000</td>\n",
       "      <td>26.100000</td>\n",
       "      <td>24.900000</td>\n",
       "    </tr>\n",
       "  </tbody>\n",
       "</table>\n",
       "</div>"
      ],
      "text/plain": [
       "       participation_2017sat  read_and_write_2017sat  math_2017sat  \\\n",
       "count              51.000000               51.000000     51.000000   \n",
       "mean               39.803922              569.117647    556.882353   \n",
       "std                35.276632               45.666901     47.121395   \n",
       "min                 2.000000              482.000000    468.000000   \n",
       "25%                 4.000000              533.500000    523.500000   \n",
       "50%                38.000000              559.000000    548.000000   \n",
       "75%                66.000000              613.000000    599.000000   \n",
       "max               100.000000              644.000000    651.000000   \n",
       "\n",
       "       total_2017sat  participation_2017act  english_2017act  math_2017act  \\\n",
       "count      51.000000              51.000000        51.000000     51.000000   \n",
       "mean     1126.098039              65.254902        20.931373     21.182353   \n",
       "std        92.494812              32.140842         2.353677      1.981989   \n",
       "min       950.000000               8.000000        16.300000     18.000000   \n",
       "25%      1055.500000              31.000000        19.000000     19.400000   \n",
       "50%      1107.000000              69.000000        20.700000     20.900000   \n",
       "75%      1212.000000             100.000000        23.300000     23.100000   \n",
       "max      1295.000000             100.000000        25.500000     25.300000   \n",
       "\n",
       "       reading_2017act  science_2017act  composite_2017act  \\\n",
       "count        51.000000        51.000000          51.000000   \n",
       "mean         22.013725        21.450980          21.519608   \n",
       "std           2.067271         1.739353           2.020695   \n",
       "min          18.100000        18.200000          17.800000   \n",
       "25%          20.450000        19.950000          19.800000   \n",
       "50%          21.800000        21.300000          21.400000   \n",
       "75%          24.150000        23.200000          23.600000   \n",
       "max          26.000000        24.900000          25.500000   \n",
       "\n",
       "       participation_2018sat  read_and_write_2018sat  math_2018sat  \\\n",
       "count              51.000000               51.000000     51.000000   \n",
       "mean               45.745098              563.686275    556.235294   \n",
       "std                37.314256               47.502627     47.772623   \n",
       "min                 2.000000              480.000000    480.000000   \n",
       "25%                 4.500000              534.500000    522.500000   \n",
       "50%                52.000000              552.000000    544.000000   \n",
       "75%                77.500000              610.500000    593.500000   \n",
       "max               100.000000              643.000000    655.000000   \n",
       "\n",
       "       total_2018sat  participation_2018act  composite_2018act  \\\n",
       "count      51.000000              51.000000          51.000000   \n",
       "mean     1120.019608              61.647059          21.486275   \n",
       "std        94.155083              34.080976           2.106278   \n",
       "min       977.000000               7.000000          17.700000   \n",
       "25%      1057.500000              28.500000          19.950000   \n",
       "50%      1098.000000              66.000000          21.300000   \n",
       "75%      1204.000000             100.000000          23.550000   \n",
       "max      1298.000000             100.000000          25.600000   \n",
       "\n",
       "       english_2018act  math_2018act  reading_2018act  science_2018act  \n",
       "count        51.000000     51.000000        51.000000        51.000000  \n",
       "mean         20.988235     21.125490        22.015686        21.345098  \n",
       "std           2.446356      2.035765         2.167245         1.870114  \n",
       "min          16.600000     17.800000        18.000000        17.900000  \n",
       "25%          19.100000     19.400000        20.450000        19.850000  \n",
       "50%          20.200000     20.700000        21.600000        21.100000  \n",
       "75%          23.700000     23.150000        24.100000        23.050000  \n",
       "max          26.000000     25.200000        26.100000        24.900000  "
      ]
     },
     "execution_count": 51,
     "metadata": {},
     "output_type": "execute_result"
    }
   ],
   "source": [
    "print(skew(final))\n",
    "final.describe()"
   ]
  },
  {
   "cell_type": "markdown",
   "metadata": {},
   "source": [
    "The data approximately quite very symmetrical with skew values mostly between -0.5 and 0.5 where positive skew is to the right (tail is on the right) vice versa and seems mostly to be bimodal based on the graphs observed above."
   ]
  },
  {
   "cell_type": "markdown",
   "metadata": {},
   "source": [
    "#### We generally assuming that data we sample from a population will be normally distributed. Do we observe this trend?"
   ]
  },
  {
   "cell_type": "raw",
   "metadata": {},
   "source": [
    "Does This Assumption Hold for:\n",
    "    - Math\n",
    "    - Reading\n",
    "    - Rates\n",
    "Explain your answers for each distribution and how you think this will affect estimates made from these data."
   ]
  },
  {
   "cell_type": "markdown",
   "metadata": {},
   "source": [
    "![](../assets/Distributions.png)"
   ]
  },
  {
   "cell_type": "markdown",
   "metadata": {},
   "source": [
    "Answer: This distribution do not look normal when we define the population to be of the 51 states with their mean score. They mostly seem bimodal. Based on the shapiro-wilk test (done below), only act reading scores in 2017 seems to have a p-value higher than 0.05 which suggest normality."
   ]
  },
  {
   "cell_type": "code",
   "execution_count": 52,
   "metadata": {},
   "outputs": [
    {
     "data": {
      "text/plain": [
       "{'participation_2017act': (0.8398398160934448, 6.978356395848095e-06),\n",
       " 'participation_2017sat': (0.8536623120307922, 1.649127807468176e-05),\n",
       " 'participation_2018act': (0.8256993889808655, 3.0170992886269232e-06),\n",
       " 'participation_2018sat': (0.856289803981781, 1.9515182430041023e-05),\n",
       " 'math_2017act': (0.9527901411056519, 0.041251927614212036),\n",
       " 'math_2017sat': (0.9493667483329773, 0.029660360887646675),\n",
       " 'math_2018act': (0.9506922364234924, 0.03368690237402916),\n",
       " 'math_2018sat': (0.9374468922615051, 0.009714636951684952),\n",
       " 'reading_2017act': (0.9556081295013428, 0.05425470694899559),\n",
       " 'read_and_write_2017sat': (0.9205631613731384, 0.002204112010076642),\n",
       " 'reading_2018act': (0.9529093503952026, 0.04173128679394722),\n",
       " 'read_and_write_2018sat': (0.927172839641571, 0.003885231912136078)}"
      ]
     },
     "execution_count": 52,
     "metadata": {},
     "output_type": "execute_result"
    }
   ],
   "source": [
    "# shaprio\n",
    "def shapiro_col(col_list):\n",
    "    k={i:shapiro(final[i]) for i in col_list}\n",
    "    return k\n",
    "\n",
    "shapiro_col(['participation_2017act','participation_2017sat','participation_2018act','participation_2018sat', \n",
    "                          'math_2017act','math_2017sat','math_2018act','math_2018sat',\n",
    "                         'reading_2017act','read_and_write_2017sat','reading_2018act','read_and_write_2018sat'])"
   ]
  },
  {
   "cell_type": "markdown",
   "metadata": {},
   "source": [
    "#### Estimate Limits of Data\n",
    "\n",
    "Suppose we only seek to understand the relationship between SAT and ACT participation rates in 2017. \n",
    "\n",
    "##### Does it make sense to conduct statistical inference given these data specifically? \n",
    "\n",
    "Why or why not?\n",
    "\n",
    "*(think about granularity, aggregation, the relationships between populations size & rates...consider the actually populations these data describe in answering this question)*"
   ]
  },
  {
   "cell_type": "markdown",
   "metadata": {},
   "source": [
    "Answer: It might not be suitable since the data we were given are already aggregated the data. For instance, a high participation rate from a state of smaller population would not actually increase the participation by much yet it can change the average participation rates more than it should. For instance, a 2 from a state population of 2 participate in act which gives a participation rate of 100% and we have 0 from a state population of 100 participate in act. The average of the participation rate would be 50% yet only 2 individuals are taking the act."
   ]
  },
  {
   "cell_type": "markdown",
   "metadata": {},
   "source": [
    "##### Is it appropriate to compare *these* specific SAT and ACT math scores? \n",
    "\n",
    "Why or why not?"
   ]
  },
  {
   "cell_type": "markdown",
   "metadata": {},
   "source": [
    "Answer: It makes little sense to do so since the rubicks for scoring might be different for the math papers. Also the formats of the test might require different skills other than maths. For instance, ACT gives lesser time for their questions which put emphasis on applying practised problems which might emphasis memory-skills more than math. Thus, it is hard to compare ACT to SAT scores directly."
   ]
  },
  {
   "cell_type": "markdown",
   "metadata": {},
   "source": [
    "#### Statistical Evaluation of Distributions \n",
    "\n",
    "**If you feel it's appropriate**, using methods we discussed in class, run hypothesis tests to compare variables of interest in our dataset. "
   ]
  },
  {
   "cell_type": "code",
   "execution_count": 53,
   "metadata": {},
   "outputs": [
    {
     "name": "stdout",
     "output_type": "stream",
     "text": [
      "0.1429241656548978 0.8866378692365904\n"
     ]
    }
   ],
   "source": [
    "t_stat_act,p_val_act=stats.ttest_ind(final['math_2017act'],final['math_2018act'],equal_var=False)\n",
    "print(t_stat_act,p_val_act)"
   ]
  },
  {
   "cell_type": "code",
   "execution_count": 54,
   "metadata": {},
   "outputs": [
    {
     "name": "stdout",
     "output_type": "stream",
     "text": [
      "-0.004675253997432277 0.9962790354054806\n"
     ]
    }
   ],
   "source": [
    "t_stat_sat,p_val_sat=stats.ttest_ind(final['reading_2017act'],final['reading_2018act'],equal_var=False)\n",
    "print(t_stat_sat,p_val_sat)"
   ]
  },
  {
   "cell_type": "markdown",
   "metadata": {},
   "source": [
    "Thee p-value > 0.05 for the math score in act which suggests unlikelihood of a drop in the mean math score."
   ]
  },
  {
   "cell_type": "markdown",
   "metadata": {},
   "source": [
    "## Outside Research"
   ]
  },
  {
   "cell_type": "markdown",
   "metadata": {},
   "source": [
    "Based upon your observations, choose **three** states that demonstrate interesting trends in their SAT and/or ACT participation rates. Spend some time doing outside research on state policies that might influence these rates, and summarize your findings below. **Feel free to go back and create new plots that highlight these states of interest**. If you bring in any outside tables or charts, make sure you are explicit about having borrowed them. If you quote any text, make sure that it renders as being quoted. (Make sure that you cite your sources -- check with you local instructor for citation preferences)."
   ]
  },
  {
   "cell_type": "markdown",
   "metadata": {},
   "source": [
    "The first state that has an obvious trend would be Colorado where the participation for SAT rose while ACT dipped. This is mostly due to the fact Colorado Education Department made it mandatory for the students to participate while offering it for free. \n",
    "\n",
    "Another state that could be of interest would be Oregon whom has shown an increase in SAT and ACT participation in the 2 years although the test remains mostly optional for the students there. Their high schooler mostly takes the Smarter Balanced test. However, the debate over whether to switch over to ACT/SAT might not be over as there has been said trends of students opting out of the national test. The Oregon Department of Education also mentions that they might be offering the college board test to sophomores in advanced courses.\n",
    "\n",
    "The last state that shows an interesting trend would be florida where participation in both exams dropped. Yet there seemed to be few influential reason why that could be the case except for a class action against the college board for the reuse of examination questions in mid 2018. Another potential reason could be that report on the discussion on replacing Florida Standards Assessments(FDA) to SAT/ACT in early 2018 might deter students from participating on either paper."
   ]
  },
  {
   "cell_type": "code",
   "execution_count": 55,
   "metadata": {},
   "outputs": [
    {
     "data": {
      "text/html": [
       "<div>\n",
       "<style scoped>\n",
       "    .dataframe tbody tr th:only-of-type {\n",
       "        vertical-align: middle;\n",
       "    }\n",
       "\n",
       "    .dataframe tbody tr th {\n",
       "        vertical-align: top;\n",
       "    }\n",
       "\n",
       "    .dataframe thead th {\n",
       "        text-align: right;\n",
       "    }\n",
       "</style>\n",
       "<table border=\"1\" class=\"dataframe\">\n",
       "  <thead>\n",
       "    <tr style=\"text-align: right;\">\n",
       "      <th></th>\n",
       "      <th>participation_2017sat</th>\n",
       "      <th>read_and_write_2017sat</th>\n",
       "      <th>math_2017sat</th>\n",
       "      <th>total_2017sat</th>\n",
       "      <th>participation_2017act</th>\n",
       "      <th>english_2017act</th>\n",
       "      <th>math_2017act</th>\n",
       "      <th>reading_2017act</th>\n",
       "      <th>science_2017act</th>\n",
       "      <th>composite_2017act</th>\n",
       "      <th>participation_2018sat</th>\n",
       "      <th>read_and_write_2018sat</th>\n",
       "      <th>math_2018sat</th>\n",
       "      <th>total_2018sat</th>\n",
       "      <th>participation_2018act</th>\n",
       "      <th>composite_2018act</th>\n",
       "      <th>english_2018act</th>\n",
       "      <th>math_2018act</th>\n",
       "      <th>reading_2018act</th>\n",
       "      <th>science_2018act</th>\n",
       "    </tr>\n",
       "    <tr>\n",
       "      <th>state</th>\n",
       "      <th></th>\n",
       "      <th></th>\n",
       "      <th></th>\n",
       "      <th></th>\n",
       "      <th></th>\n",
       "      <th></th>\n",
       "      <th></th>\n",
       "      <th></th>\n",
       "      <th></th>\n",
       "      <th></th>\n",
       "      <th></th>\n",
       "      <th></th>\n",
       "      <th></th>\n",
       "      <th></th>\n",
       "      <th></th>\n",
       "      <th></th>\n",
       "      <th></th>\n",
       "      <th></th>\n",
       "      <th></th>\n",
       "      <th></th>\n",
       "    </tr>\n",
       "  </thead>\n",
       "  <tbody>\n",
       "    <tr>\n",
       "      <td>Alaska</td>\n",
       "      <td>38.0</td>\n",
       "      <td>547</td>\n",
       "      <td>533</td>\n",
       "      <td>1080</td>\n",
       "      <td>65.0</td>\n",
       "      <td>18.7</td>\n",
       "      <td>19.8</td>\n",
       "      <td>20.4</td>\n",
       "      <td>19.9</td>\n",
       "      <td>19.8</td>\n",
       "      <td>43.0</td>\n",
       "      <td>562</td>\n",
       "      <td>544</td>\n",
       "      <td>1106</td>\n",
       "      <td>33.0</td>\n",
       "      <td>20.8</td>\n",
       "      <td>19.8</td>\n",
       "      <td>20.6</td>\n",
       "      <td>21.6</td>\n",
       "      <td>20.7</td>\n",
       "    </tr>\n",
       "    <tr>\n",
       "      <td>Florida</td>\n",
       "      <td>83.0</td>\n",
       "      <td>520</td>\n",
       "      <td>497</td>\n",
       "      <td>1017</td>\n",
       "      <td>73.0</td>\n",
       "      <td>19.0</td>\n",
       "      <td>19.4</td>\n",
       "      <td>21.0</td>\n",
       "      <td>19.4</td>\n",
       "      <td>19.8</td>\n",
       "      <td>56.0</td>\n",
       "      <td>550</td>\n",
       "      <td>549</td>\n",
       "      <td>1099</td>\n",
       "      <td>66.0</td>\n",
       "      <td>19.9</td>\n",
       "      <td>19.2</td>\n",
       "      <td>19.3</td>\n",
       "      <td>21.1</td>\n",
       "      <td>19.5</td>\n",
       "    </tr>\n",
       "    <tr>\n",
       "      <td>Georgia</td>\n",
       "      <td>61.0</td>\n",
       "      <td>535</td>\n",
       "      <td>515</td>\n",
       "      <td>1050</td>\n",
       "      <td>55.0</td>\n",
       "      <td>21.0</td>\n",
       "      <td>20.9</td>\n",
       "      <td>22.0</td>\n",
       "      <td>21.3</td>\n",
       "      <td>21.4</td>\n",
       "      <td>70.0</td>\n",
       "      <td>542</td>\n",
       "      <td>522</td>\n",
       "      <td>1064</td>\n",
       "      <td>53.0</td>\n",
       "      <td>21.4</td>\n",
       "      <td>20.9</td>\n",
       "      <td>20.7</td>\n",
       "      <td>21.2</td>\n",
       "      <td>21.4</td>\n",
       "    </tr>\n",
       "    <tr>\n",
       "      <td>Hawaii</td>\n",
       "      <td>55.0</td>\n",
       "      <td>544</td>\n",
       "      <td>541</td>\n",
       "      <td>1085</td>\n",
       "      <td>90.0</td>\n",
       "      <td>17.8</td>\n",
       "      <td>19.2</td>\n",
       "      <td>19.2</td>\n",
       "      <td>19.3</td>\n",
       "      <td>19.0</td>\n",
       "      <td>56.0</td>\n",
       "      <td>480</td>\n",
       "      <td>530</td>\n",
       "      <td>1010</td>\n",
       "      <td>89.0</td>\n",
       "      <td>18.9</td>\n",
       "      <td>18.2</td>\n",
       "      <td>19.0</td>\n",
       "      <td>19.1</td>\n",
       "      <td>19.0</td>\n",
       "    </tr>\n",
       "    <tr>\n",
       "      <td>North Carolina</td>\n",
       "      <td>49.0</td>\n",
       "      <td>546</td>\n",
       "      <td>535</td>\n",
       "      <td>1081</td>\n",
       "      <td>100.0</td>\n",
       "      <td>17.8</td>\n",
       "      <td>19.3</td>\n",
       "      <td>19.6</td>\n",
       "      <td>19.3</td>\n",
       "      <td>19.1</td>\n",
       "      <td>52.0</td>\n",
       "      <td>554</td>\n",
       "      <td>543</td>\n",
       "      <td>1098</td>\n",
       "      <td>100.0</td>\n",
       "      <td>19.1</td>\n",
       "      <td>18.0</td>\n",
       "      <td>19.3</td>\n",
       "      <td>19.5</td>\n",
       "      <td>19.2</td>\n",
       "    </tr>\n",
       "    <tr>\n",
       "      <td>Oklahoma</td>\n",
       "      <td>7.0</td>\n",
       "      <td>530</td>\n",
       "      <td>517</td>\n",
       "      <td>1047</td>\n",
       "      <td>100.0</td>\n",
       "      <td>18.5</td>\n",
       "      <td>18.8</td>\n",
       "      <td>20.1</td>\n",
       "      <td>19.6</td>\n",
       "      <td>19.4</td>\n",
       "      <td>8.0</td>\n",
       "      <td>541</td>\n",
       "      <td>521</td>\n",
       "      <td>1062</td>\n",
       "      <td>100.0</td>\n",
       "      <td>19.3</td>\n",
       "      <td>18.4</td>\n",
       "      <td>18.8</td>\n",
       "      <td>20.1</td>\n",
       "      <td>19.4</td>\n",
       "    </tr>\n",
       "    <tr>\n",
       "      <td>South Carolina</td>\n",
       "      <td>50.0</td>\n",
       "      <td>543</td>\n",
       "      <td>521</td>\n",
       "      <td>1064</td>\n",
       "      <td>100.0</td>\n",
       "      <td>17.5</td>\n",
       "      <td>18.6</td>\n",
       "      <td>19.1</td>\n",
       "      <td>18.9</td>\n",
       "      <td>18.7</td>\n",
       "      <td>55.0</td>\n",
       "      <td>547</td>\n",
       "      <td>523</td>\n",
       "      <td>1070</td>\n",
       "      <td>100.0</td>\n",
       "      <td>18.3</td>\n",
       "      <td>17.3</td>\n",
       "      <td>18.2</td>\n",
       "      <td>18.6</td>\n",
       "      <td>18.5</td>\n",
       "    </tr>\n",
       "    <tr>\n",
       "      <td>Texas</td>\n",
       "      <td>62.0</td>\n",
       "      <td>513</td>\n",
       "      <td>507</td>\n",
       "      <td>1020</td>\n",
       "      <td>45.0</td>\n",
       "      <td>19.5</td>\n",
       "      <td>20.7</td>\n",
       "      <td>21.1</td>\n",
       "      <td>20.9</td>\n",
       "      <td>20.7</td>\n",
       "      <td>66.0</td>\n",
       "      <td>520</td>\n",
       "      <td>512</td>\n",
       "      <td>1032</td>\n",
       "      <td>41.0</td>\n",
       "      <td>20.6</td>\n",
       "      <td>19.6</td>\n",
       "      <td>20.6</td>\n",
       "      <td>21.1</td>\n",
       "      <td>20.8</td>\n",
       "    </tr>\n",
       "    <tr>\n",
       "      <td>West Virginia</td>\n",
       "      <td>14.0</td>\n",
       "      <td>558</td>\n",
       "      <td>528</td>\n",
       "      <td>1086</td>\n",
       "      <td>69.0</td>\n",
       "      <td>20.0</td>\n",
       "      <td>19.4</td>\n",
       "      <td>21.2</td>\n",
       "      <td>20.5</td>\n",
       "      <td>20.4</td>\n",
       "      <td>28.0</td>\n",
       "      <td>513</td>\n",
       "      <td>486</td>\n",
       "      <td>999</td>\n",
       "      <td>65.0</td>\n",
       "      <td>20.3</td>\n",
       "      <td>19.8</td>\n",
       "      <td>19.4</td>\n",
       "      <td>21.3</td>\n",
       "      <td>20.4</td>\n",
       "    </tr>\n",
       "  </tbody>\n",
       "</table>\n",
       "</div>"
      ],
      "text/plain": [
       "                participation_2017sat  read_and_write_2017sat  math_2017sat  \\\n",
       "state                                                                         \n",
       "Alaska                           38.0                     547           533   \n",
       "Florida                          83.0                     520           497   \n",
       "Georgia                          61.0                     535           515   \n",
       "Hawaii                           55.0                     544           541   \n",
       "North Carolina                   49.0                     546           535   \n",
       "Oklahoma                          7.0                     530           517   \n",
       "South Carolina                   50.0                     543           521   \n",
       "Texas                            62.0                     513           507   \n",
       "West Virginia                    14.0                     558           528   \n",
       "\n",
       "                total_2017sat  participation_2017act  english_2017act  \\\n",
       "state                                                                   \n",
       "Alaska                   1080                   65.0             18.7   \n",
       "Florida                  1017                   73.0             19.0   \n",
       "Georgia                  1050                   55.0             21.0   \n",
       "Hawaii                   1085                   90.0             17.8   \n",
       "North Carolina           1081                  100.0             17.8   \n",
       "Oklahoma                 1047                  100.0             18.5   \n",
       "South Carolina           1064                  100.0             17.5   \n",
       "Texas                    1020                   45.0             19.5   \n",
       "West Virginia            1086                   69.0             20.0   \n",
       "\n",
       "                math_2017act  reading_2017act  science_2017act  \\\n",
       "state                                                            \n",
       "Alaska                  19.8             20.4             19.9   \n",
       "Florida                 19.4             21.0             19.4   \n",
       "Georgia                 20.9             22.0             21.3   \n",
       "Hawaii                  19.2             19.2             19.3   \n",
       "North Carolina          19.3             19.6             19.3   \n",
       "Oklahoma                18.8             20.1             19.6   \n",
       "South Carolina          18.6             19.1             18.9   \n",
       "Texas                   20.7             21.1             20.9   \n",
       "West Virginia           19.4             21.2             20.5   \n",
       "\n",
       "                composite_2017act  participation_2018sat  \\\n",
       "state                                                      \n",
       "Alaska                       19.8                   43.0   \n",
       "Florida                      19.8                   56.0   \n",
       "Georgia                      21.4                   70.0   \n",
       "Hawaii                       19.0                   56.0   \n",
       "North Carolina               19.1                   52.0   \n",
       "Oklahoma                     19.4                    8.0   \n",
       "South Carolina               18.7                   55.0   \n",
       "Texas                        20.7                   66.0   \n",
       "West Virginia                20.4                   28.0   \n",
       "\n",
       "                read_and_write_2018sat  math_2018sat  total_2018sat  \\\n",
       "state                                                                 \n",
       "Alaska                             562           544           1106   \n",
       "Florida                            550           549           1099   \n",
       "Georgia                            542           522           1064   \n",
       "Hawaii                             480           530           1010   \n",
       "North Carolina                     554           543           1098   \n",
       "Oklahoma                           541           521           1062   \n",
       "South Carolina                     547           523           1070   \n",
       "Texas                              520           512           1032   \n",
       "West Virginia                      513           486            999   \n",
       "\n",
       "                participation_2018act  composite_2018act  english_2018act  \\\n",
       "state                                                                       \n",
       "Alaska                           33.0               20.8             19.8   \n",
       "Florida                          66.0               19.9             19.2   \n",
       "Georgia                          53.0               21.4             20.9   \n",
       "Hawaii                           89.0               18.9             18.2   \n",
       "North Carolina                  100.0               19.1             18.0   \n",
       "Oklahoma                        100.0               19.3             18.4   \n",
       "South Carolina                  100.0               18.3             17.3   \n",
       "Texas                            41.0               20.6             19.6   \n",
       "West Virginia                    65.0               20.3             19.8   \n",
       "\n",
       "                math_2018act  reading_2018act  science_2018act  \n",
       "state                                                           \n",
       "Alaska                  20.6             21.6             20.7  \n",
       "Florida                 19.3             21.1             19.5  \n",
       "Georgia                 20.7             21.2             21.4  \n",
       "Hawaii                  19.0             19.1             19.0  \n",
       "North Carolina          19.3             19.5             19.2  \n",
       "Oklahoma                18.8             20.1             19.4  \n",
       "South Carolina          18.2             18.6             18.5  \n",
       "Texas                   20.6             21.1             20.8  \n",
       "West Virginia           19.4             21.3             20.4  "
      ]
     },
     "execution_count": 55,
     "metadata": {},
     "output_type": "execute_result"
    }
   ],
   "source": [
    "final[(final.composite_2017act<final.composite_2017act.mean()) & (final.composite_2018act<final.composite_2018act.mean())\n",
    "     &(final.total_2017sat<final.total_2017sat.mean()) & (final.total_2018sat<final.total_2018sat.mean())]"
   ]
  },
  {
   "cell_type": "raw",
   "metadata": {},
   "source": [
    "Reference:\n",
    "Colorado Juniors Face New, Revamped College Exam in Sat After State Dumps Rival Act\n",
    "Monte Whaley - https://www.denverpost.com/2017/03/06/colorado-juniors-sat-college-exam/\n",
    "Who Is Left In Parcc and Smarter Balanced?\n",
    "Shane Hart- Oak-Shane Hart - https://truthinamericaneducation.com/common-core-assessments/who-is-left-in-parcc-and-smarter-balanced/\n",
    "Oregon Decides To Keep High School State Tests\n",
    "Rob Manning - https://www.opb.org/news/article/oregon-high-school-state-tests/"
   ]
  },
  {
   "cell_type": "markdown",
   "metadata": {},
   "source": [
    "## Conclusions and Recommendations"
   ]
  },
  {
   "cell_type": "markdown",
   "metadata": {},
   "source": [
    "Based on your exploration of the data, what are you key takeaways and recommendations? Choose one state with a lower participation rate and provide a suggestion for how the College Board might increase participation amongst graduating seniors in this state. Are there additional data you desire that would better inform your investigations?"
   ]
  },
  {
   "cell_type": "markdown",
   "metadata": {},
   "source": [
    "I would recommend working on Oregon based on the data where there is a huge opportunity to increase participation rate in a state since participation rate are currently low (<50%). Based on outside findings, there are also mentions of the student populations getting tired of the longer durations of the national Smarter Balanced Test they have been taking since 2015. Moreover, it is the 25th most populous state in which meant efforts in increasing the participation rate would likely meant a good number of students taking up the test while not facing severe competition from ACT which only shows a student participation rate of 42% in 2018."
   ]
  },
  {
   "cell_type": "markdown",
   "metadata": {},
   "source": [
    "It is hard to propose any sort of measures with the given data, other than convincing the state department to switch over (which is like duh). I would like to have the data on the quotations for the test papers in ACT/SAT for the past few years, the rubicks for guaging the student\\`s proficiency from the education department as well as college admission criteria data which will probably be useful to put forth reccomendations."
   ]
  },
  {
   "cell_type": "code",
   "execution_count": null,
   "metadata": {},
   "outputs": [],
   "source": []
  }
 ],
 "metadata": {
  "anaconda-cloud": {},
  "kernelspec": {
   "display_name": "Python 3",
   "language": "python",
   "name": "python3"
  },
  "language_info": {
   "codemirror_mode": {
    "name": "ipython",
    "version": 3
   },
   "file_extension": ".py",
   "mimetype": "text/x-python",
   "name": "python",
   "nbconvert_exporter": "python",
   "pygments_lexer": "ipython3",
   "version": "3.7.4"
  }
 },
 "nbformat": 4,
 "nbformat_minor": 2
}
