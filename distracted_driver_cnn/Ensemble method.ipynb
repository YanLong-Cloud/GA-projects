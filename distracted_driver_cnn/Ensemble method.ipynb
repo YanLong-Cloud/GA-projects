{
 "cells": [
  {
   "cell_type": "markdown",
   "metadata": {},
   "source": [
    "## From EDA"
   ]
  },
  {
   "cell_type": "code",
   "execution_count": 1,
   "metadata": {},
   "outputs": [],
   "source": [
    "from skimage import io as skio\n",
    "import pandas as pd\n",
    "import matplotlib.pyplot as plt\n",
    "from skimage import filters,morphology\n",
    "import glob, os\n",
    "import cv2\n",
    "import numpy as np\n",
    "from scipy.ndimage import label\n",
    "from sklearn.model_selection import train_test_split,cross_val_score\n",
    "from sklearn.ensemble import GradientBoostingClassifier\n",
    "from sklearn.metrics import accuracy_score\n",
    "%matplotlib inline"
   ]
  },
  {
   "cell_type": "code",
   "execution_count": 2,
   "metadata": {},
   "outputs": [],
   "source": [
    "def image_transform(images):\n",
    "    images = skio.imread(images,as_gray=True)\n",
    "    img = filters.gaussian(images, sigma=3.0)\n",
    "    img = filters.sobel(img)\n",
    "    dark_spots = np.array((img > 2/255).nonzero())\n",
    "    bool_mask = np.zeros(img.shape, dtype=np.bool)\n",
    "    bool_mask[tuple(dark_spots)] = 1.\n",
    "    seed_mask, num_seeds = label(bool_mask)\n",
    "    ws = morphology.watershed(img, seed_mask)\n",
    "        # do the watershed on all 3 layers\n",
    "    images=ws*images\n",
    "    images= cv2.resize(images,(256,256), interpolation = cv2.INTER_CUBIC)\n",
    "    return images.flatten()"
   ]
  },
  {
   "cell_type": "code",
   "execution_count": 3,
   "metadata": {},
   "outputs": [
    {
     "data": {
      "text/plain": [
       "22424"
      ]
     },
     "execution_count": 3,
     "metadata": {},
     "output_type": "execute_result"
    }
   ],
   "source": [
    "len(glob.glob('imgs\\\\train\\\\*\\\\*.jpg'))"
   ]
  },
  {
   "cell_type": "code",
   "execution_count": 4,
   "metadata": {},
   "outputs": [],
   "source": [
    "directories=np.array(glob.glob('imgs\\\\train\\\\*\\\\*.jpg'))"
   ]
  },
  {
   "cell_type": "code",
   "execution_count": 5,
   "metadata": {
    "scrolled": true
   },
   "outputs": [
    {
     "data": {
      "text/plain": [
       "['imgs\\\\train\\\\c0\\\\img_100026.jpg',\n",
       " 'imgs\\\\train\\\\c0\\\\img_10003.jpg',\n",
       " 'imgs\\\\train\\\\c0\\\\img_100050.jpg',\n",
       " 'imgs\\\\train\\\\c0\\\\img_100074.jpg',\n",
       " 'imgs\\\\train\\\\c0\\\\img_10012.jpg',\n",
       " 'imgs\\\\train\\\\c0\\\\img_100145.jpg',\n",
       " 'imgs\\\\train\\\\c0\\\\img_100191.jpg',\n",
       " 'imgs\\\\train\\\\c0\\\\img_100257.jpg',\n",
       " 'imgs\\\\train\\\\c0\\\\img_100312.jpg',\n",
       " 'imgs\\\\train\\\\c0\\\\img_100337.jpg']"
      ]
     },
     "execution_count": 5,
     "metadata": {},
     "output_type": "execute_result"
    }
   ],
   "source": [
    "# checking that the directories match\n",
    "glob.glob('imgs\\\\train\\\\*\\\\*.jpg')[:10]"
   ]
  },
  {
   "cell_type": "code",
   "execution_count": 6,
   "metadata": {},
   "outputs": [
    {
     "data": {
      "text/plain": [
       "['imgs\\\\train\\\\c9\\\\img_99601.jpg',\n",
       " 'imgs\\\\train\\\\c9\\\\img_99653.jpg',\n",
       " 'imgs\\\\train\\\\c9\\\\img_99692.jpg',\n",
       " 'imgs\\\\train\\\\c9\\\\img_99733.jpg',\n",
       " 'imgs\\\\train\\\\c9\\\\img_99740.jpg',\n",
       " 'imgs\\\\train\\\\c9\\\\img_99761.jpg',\n",
       " 'imgs\\\\train\\\\c9\\\\img_99801.jpg',\n",
       " 'imgs\\\\train\\\\c9\\\\img_99927.jpg',\n",
       " 'imgs\\\\train\\\\c9\\\\img_9993.jpg',\n",
       " 'imgs\\\\train\\\\c9\\\\img_99949.jpg']"
      ]
     },
     "execution_count": 6,
     "metadata": {},
     "output_type": "execute_result"
    }
   ],
   "source": [
    "glob.glob('imgs\\\\train\\\\*\\\\*.jpg')[-10:]"
   ]
  },
  {
   "cell_type": "code",
   "execution_count": 7,
   "metadata": {
    "scrolled": true
   },
   "outputs": [
    {
     "data": {
      "text/html": [
       "<div>\n",
       "<style scoped>\n",
       "    .dataframe tbody tr th:only-of-type {\n",
       "        vertical-align: middle;\n",
       "    }\n",
       "\n",
       "    .dataframe tbody tr th {\n",
       "        vertical-align: top;\n",
       "    }\n",
       "\n",
       "    .dataframe thead th {\n",
       "        text-align: right;\n",
       "    }\n",
       "</style>\n",
       "<table border=\"1\" class=\"dataframe\">\n",
       "  <thead>\n",
       "    <tr style=\"text-align: right;\">\n",
       "      <th></th>\n",
       "      <th>subject</th>\n",
       "      <th>classname</th>\n",
       "      <th>img</th>\n",
       "    </tr>\n",
       "  </thead>\n",
       "  <tbody>\n",
       "    <tr>\n",
       "      <td>2458</td>\n",
       "      <td>p015</td>\n",
       "      <td>c0</td>\n",
       "      <td>img_100026.jpg</td>\n",
       "    </tr>\n",
       "    <tr>\n",
       "      <td>5693</td>\n",
       "      <td>p022</td>\n",
       "      <td>c0</td>\n",
       "      <td>img_10003.jpg</td>\n",
       "    </tr>\n",
       "    <tr>\n",
       "      <td>5712</td>\n",
       "      <td>p022</td>\n",
       "      <td>c0</td>\n",
       "      <td>img_100050.jpg</td>\n",
       "    </tr>\n",
       "    <tr>\n",
       "      <td>15339</td>\n",
       "      <td>p051</td>\n",
       "      <td>c0</td>\n",
       "      <td>img_100074.jpg</td>\n",
       "    </tr>\n",
       "    <tr>\n",
       "      <td>9</td>\n",
       "      <td>p002</td>\n",
       "      <td>c0</td>\n",
       "      <td>img_10012.jpg</td>\n",
       "    </tr>\n",
       "    <tr>\n",
       "      <td>...</td>\n",
       "      <td>...</td>\n",
       "      <td>...</td>\n",
       "      <td>...</td>\n",
       "    </tr>\n",
       "    <tr>\n",
       "      <td>2396</td>\n",
       "      <td>p014</td>\n",
       "      <td>c9</td>\n",
       "      <td>img_99761.jpg</td>\n",
       "    </tr>\n",
       "    <tr>\n",
       "      <td>15316</td>\n",
       "      <td>p050</td>\n",
       "      <td>c9</td>\n",
       "      <td>img_99801.jpg</td>\n",
       "    </tr>\n",
       "    <tr>\n",
       "      <td>12676</td>\n",
       "      <td>p045</td>\n",
       "      <td>c9</td>\n",
       "      <td>img_99927.jpg</td>\n",
       "    </tr>\n",
       "    <tr>\n",
       "      <td>11947</td>\n",
       "      <td>p042</td>\n",
       "      <td>c9</td>\n",
       "      <td>img_9993.jpg</td>\n",
       "    </tr>\n",
       "    <tr>\n",
       "      <td>1528</td>\n",
       "      <td>p012</td>\n",
       "      <td>c9</td>\n",
       "      <td>img_99949.jpg</td>\n",
       "    </tr>\n",
       "  </tbody>\n",
       "</table>\n",
       "<p>22424 rows × 3 columns</p>\n",
       "</div>"
      ],
      "text/plain": [
       "      subject classname             img\n",
       "2458     p015        c0  img_100026.jpg\n",
       "5693     p022        c0   img_10003.jpg\n",
       "5712     p022        c0  img_100050.jpg\n",
       "15339    p051        c0  img_100074.jpg\n",
       "9        p002        c0   img_10012.jpg\n",
       "...       ...       ...             ...\n",
       "2396     p014        c9   img_99761.jpg\n",
       "15316    p050        c9   img_99801.jpg\n",
       "12676    p045        c9   img_99927.jpg\n",
       "11947    p042        c9    img_9993.jpg\n",
       "1528     p012        c9   img_99949.jpg\n",
       "\n",
       "[22424 rows x 3 columns]"
      ]
     },
     "execution_count": 7,
     "metadata": {},
     "output_type": "execute_result"
    }
   ],
   "source": [
    "image_list=pd.read_csv('driver_imgs_list.csv')\n",
    "image_list.sort_values(['classname','img'])"
   ]
  },
  {
   "cell_type": "code",
   "execution_count": 8,
   "metadata": {},
   "outputs": [],
   "source": [
    "y=image_list.sort_values(['classname','img'])['classname']"
   ]
  },
  {
   "cell_type": "code",
   "execution_count": 9,
   "metadata": {},
   "outputs": [],
   "source": [
    "X=glob.glob('imgs\\\\train\\\\*\\\\*.jpg')"
   ]
  },
  {
   "cell_type": "code",
   "execution_count": 10,
   "metadata": {},
   "outputs": [
    {
     "data": {
      "text/plain": [
       "22424"
      ]
     },
     "execution_count": 10,
     "metadata": {},
     "output_type": "execute_result"
    }
   ],
   "source": [
    "len(X)"
   ]
  },
  {
   "cell_type": "code",
   "execution_count": 11,
   "metadata": {},
   "outputs": [],
   "source": [
    "X_train,X_test,y_train,y_test=train_test_split(X,y,random_state=42,test_size=0.1)"
   ]
  },
  {
   "cell_type": "code",
   "execution_count": 12,
   "metadata": {},
   "outputs": [],
   "source": [
    "def generator(X,y, batch_size=128):\n",
    "    num_samples = len(X)\n",
    "    #run the tree and keep previous weights\n",
    "    gb=GradientBoostingClassifier(warm_start=True,random_state=42)\n",
    "        # Get index to start each batch but from batch size\n",
    "    for offset in range(0, num_samples, batch_size):\n",
    "        # Samples use in this batch\n",
    "        X_samples = X[offset:offset+batch_size]\n",
    "        y_samples = y[offset:offset+batch_size] \n",
    "        # Initialise batch arrays for this batch\n",
    "        X_batch = []\n",
    " \n",
    "        # For each samples\n",
    "        for batch_sample in X_samples:\n",
    "            image = image_transform(batch_sample)\n",
    "            # Add example to arrays\n",
    "            X_batch.append(image)\n",
    " \n",
    "        # Make sure they're numpy arrays (as opposed to lists)\n",
    "        X_batch = np.array(X_batch)\n",
    "        gb.fit(X_batch,y_samples)\n",
    "                    \n",
    "    return gb"
   ]
  },
  {
   "cell_type": "code",
   "execution_count": 13,
   "metadata": {
    "scrolled": true
   },
   "outputs": [
    {
     "name": "stdout",
     "output_type": "stream",
     "text": [
      "Wall time: 0 ns\n"
     ]
    }
   ],
   "source": [
    "%time\n",
    "model=generator(X_train,y_train)"
   ]
  },
  {
   "cell_type": "code",
   "execution_count": 23,
   "metadata": {
    "scrolled": true
   },
   "outputs": [
    {
     "data": {
      "text/plain": [
       "array([1.94698308e+02, 1.51439213e+02, 1.22467698e+02, 1.00541269e+02,\n",
       "       8.29241990e+01, 6.92860197e+01, 5.81360085e+01, 4.86679325e+01,\n",
       "       4.13367185e+01, 3.48443579e+01, 2.96621685e+01, 2.52434295e+01,\n",
       "       2.13723305e+01, 1.81123350e+01, 1.54125337e+01, 1.32000238e+01,\n",
       "       1.12666776e+01, 9.55449124e+00, 8.04182769e+00, 6.81216966e+00,\n",
       "       5.78472463e+00, 4.94443068e+00, 4.21953704e+00, 3.58449787e+00,\n",
       "       3.03886951e+00, 2.58571245e+00, 2.21567332e+00, 1.88556641e+00,\n",
       "       1.59893320e+00, 1.36497313e+00, 1.16520183e+00, 9.91155829e-01,\n",
       "       8.47072293e-01, 7.26061607e-01, 6.21357913e-01, 5.33193989e-01,\n",
       "       4.58460780e-01, 3.93194471e-01, 3.37913494e-01, 2.95634411e-01,\n",
       "       2.58403394e-01, 2.27069122e-01, 2.01990775e-01, 1.82673627e-01,\n",
       "       1.65895573e-01, 1.55237961e-01, 1.45052537e-01, 1.37039457e-01,\n",
       "       1.28667757e-01, 1.23522428e-01, 1.19253782e-01, 1.16017756e-01,\n",
       "       1.12428269e-01, 1.09395756e-01, 1.07678068e-01, 1.05789037e-01,\n",
       "       1.05135969e-01, 1.04034060e-01, 1.03128781e-01, 1.02105974e-01,\n",
       "       1.01801573e-01, 1.01286152e-01, 1.01285136e-01, 1.01284314e-01,\n",
       "       1.01283650e-01, 1.01283114e-01, 1.01282680e-01, 1.01282330e-01,\n",
       "       1.01282047e-01, 1.01281818e-01, 1.01281633e-01, 1.01281483e-01,\n",
       "       1.01281362e-01, 1.01281264e-01, 1.01281185e-01, 1.01281122e-01,\n",
       "       1.01281070e-01, 1.01281028e-01, 1.01280994e-01, 1.01280967e-01,\n",
       "       1.01280945e-01, 1.01280927e-01, 1.01280913e-01, 1.01280901e-01,\n",
       "       1.01280892e-01, 1.01280884e-01, 1.01280878e-01, 1.01280873e-01,\n",
       "       1.01280869e-01, 1.01280866e-01, 1.01280863e-01, 1.01280861e-01,\n",
       "       1.01280859e-01, 1.01280858e-01, 1.01280857e-01, 1.01280856e-01,\n",
       "       1.01280855e-01, 1.01280854e-01, 1.01280854e-01, 1.01280853e-01])"
      ]
     },
     "execution_count": 23,
     "metadata": {},
     "output_type": "execute_result"
    }
   ],
   "source": [
    "model.train_score_"
   ]
  },
  {
   "cell_type": "code",
   "execution_count": 29,
   "metadata": {},
   "outputs": [
    {
     "data": {
      "image/png": "[encoded data removed]",
      "text/plain": [
       "<Figure size 432x288 with 1 Axes>"
      ]
     },
     "metadata": {
      "needs_background": "light"
     },
     "output_type": "display_data"
    }
   ],
   "source": [
    "ax = plt.gca()\n",
    "ax.plot(np.arange(model.n_estimators) + 1, model.train_score_)\n",
    "ax.set_xlabel('n_estimators')\n",
    "ax.set_ylabel('loss')\n",
    "plt.legend('Error vs n_estimators');\n",
    "\n",
    "# loss drops to 0.1012 ie. accuracy = 0.9"
   ]
  },
  {
   "cell_type": "code",
   "execution_count": 15,
   "metadata": {},
   "outputs": [],
   "source": [
    "def get_val_score(X_test,y_test,model,batch_size=128):\n",
    "    accuracy=[]\n",
    "    num_samples = len(X_test)\n",
    "    for offset in range(0, num_samples, batch_size):\n",
    "        # Samples use in this batch\n",
    "        X_samples = X_test[offset:offset+batch_size]\n",
    "        y_samples = y_test[offset:offset+batch_size] \n",
    "        # Initialise batch arrays for this batch\n",
    "        X_batch = []\n",
    "        \n",
    "        # For each samples\n",
    "        for batch_sample in X_samples:\n",
    "            image = image_transform(batch_sample)\n",
    "            image = np.array(image)\n",
    "            # Add example to arrays\n",
    "            X_batch.append(image)\n",
    "        accuracy.append(accuracy_score(y_samples,model.predict(X_batch)))\n",
    "    return accuracy"
   ]
  },
  {
   "cell_type": "code",
   "execution_count": 17,
   "metadata": {},
   "outputs": [],
   "source": [
    "test_acc=get_val_score(X_test,y_test,model,batch_size=128)"
   ]
  },
  {
   "cell_type": "code",
   "execution_count": 30,
   "metadata": {
    "scrolled": false
   },
   "outputs": [
    {
     "data": {
      "text/plain": [
       "0.17878705431177447"
      ]
     },
     "execution_count": 30,
     "metadata": {},
     "output_type": "execute_result"
    }
   ],
   "source": [
    "np.mean(np.mean(test_acc))\n",
    "# accuracy is only 0.18"
   ]
  },
  {
   "cell_type": "markdown",
   "metadata": {},
   "source": [
    "## Feature Importance"
   ]
  },
  {
   "cell_type": "code",
   "execution_count": 167,
   "metadata": {},
   "outputs": [],
   "source": [
    "feature=model.feature_importances_"
   ]
  },
  {
   "cell_type": "code",
   "execution_count": 168,
   "metadata": {},
   "outputs": [],
   "source": [
    "feature=feature.reshape(256,256)"
   ]
  },
  {
   "cell_type": "code",
   "execution_count": 169,
   "metadata": {},
   "outputs": [],
   "source": [
    "# max radius will be 5 for the feature\n",
    "feature=feature/feature.max()*5"
   ]
  },
  {
   "cell_type": "code",
   "execution_count": 170,
   "metadata": {
    "scrolled": false
   },
   "outputs": [
    {
     "data": {
      "text/plain": [
       "array([[False, False, False, ..., False, False, False],\n",
       "       [False, False, False, ..., False, False, False],\n",
       "       [False, False, False, ..., False, False, False],\n",
       "       ...,\n",
       "       [False, False, False, ..., False, False, False],\n",
       "       [False, False, False, ..., False, False, False],\n",
       "       [False, False, False, ..., False, False, False]])"
      ]
     },
     "execution_count": 170,
     "metadata": {},
     "output_type": "execute_result"
    }
   ],
   "source": [
    "feature>1"
   ]
  },
  {
   "cell_type": "code",
   "execution_count": 171,
   "metadata": {},
   "outputs": [],
   "source": [
    "x,y=np.nonzero(feature>1)"
   ]
  },
  {
   "cell_type": "code",
   "execution_count": 172,
   "metadata": {},
   "outputs": [],
   "source": [
    "# the circle in the image later will be \n",
    "radius=feature[feature>1]"
   ]
  },
  {
   "cell_type": "code",
   "execution_count": 173,
   "metadata": {
    "scrolled": true
   },
   "outputs": [],
   "source": [
    "img_34=skio.imread('imgs\\\\train\\\\c0\\\\img_34.jpg',as_gray=True)"
   ]
  },
  {
   "cell_type": "code",
   "execution_count": 182,
   "metadata": {},
   "outputs": [
    {
     "data": {
      "image/png": "[encoded data removed]",
      "text/plain": [
       "<Figure size 432x288 with 1 Axes>"
      ]
     },
     "metadata": {
      "needs_background": "light"
     },
     "output_type": "display_data"
    }
   ],
   "source": [
    "fig, ax = plt.subplots()\n",
    "ax.imshow(img_34,cmap='gray')\n",
    "for i in range(len(radius)):\n",
    "    ax.add_patch(plt.Circle((x[i],y[i]),radius[i],color='r'))\n",
    "plt.show()"
   ]
  },
  {
   "cell_type": "markdown",
   "metadata": {},
   "source": [
    "## Kaggle Submission"
   ]
  },
  {
   "cell_type": "code",
   "execution_count": null,
   "metadata": {},
   "outputs": [],
   "source": [
    "len(glob.glob('imgs\\\\test\\\\test\\\\*.jpg'))"
   ]
  },
  {
   "cell_type": "code",
   "execution_count": null,
   "metadata": {},
   "outputs": [],
   "source": [
    "X_batch=pd.DataFrame()\n",
    "for i in range(0, 79726, 128):\n",
    "        # Samples use in this batch\n",
    "        X_samples = glob.glob('imgs\\\\test\\\\test\\\\*.jpg')[i:i+128]\n",
    "        # Initialise batch arrays for this batch\n",
    "        X_array_for_prediction = []\n",
    " \n",
    "        # For each sample\n",
    "        for batch_sample in X_samples:\n",
    "            image = image_transform(batch_sample)\n",
    "            X_array_for_prediction.append(image)\n",
    "        # Add sample to arrays\n",
    "        data=pd.DataFrame(model.predict_proba(X_array_for_prediction))\n",
    "        X_batch=X_batch.append(data)"
   ]
  },
  {
   "cell_type": "code",
   "execution_count": null,
   "metadata": {},
   "outputs": [],
   "source": [
    "index=pd.Series([i.split('\\\\')[-1] for i in glob.glob('imgs\\\\test\\\\test\\\\*.jpg')],name='img')"
   ]
  },
  {
   "cell_type": "code",
   "execution_count": null,
   "metadata": {},
   "outputs": [],
   "source": [
    "X_batch.index=index"
   ]
  },
  {
   "cell_type": "code",
   "execution_count": null,
   "metadata": {},
   "outputs": [],
   "source": [
    "X_batch"
   ]
  },
  {
   "cell_type": "code",
   "execution_count": null,
   "metadata": {},
   "outputs": [],
   "source": [
    "X_batch.columns=['c0','c1','c2','c3','c4','c5','c6','c7','c8','c9']"
   ]
  },
  {
   "cell_type": "code",
   "execution_count": null,
   "metadata": {},
   "outputs": [],
   "source": [
    "X_batch.to_csv('ensemble.csv')"
   ]
  },
  {
   "cell_type": "markdown",
   "metadata": {},
   "source": [
    "![](assets/ensemble.png)"
   ]
  },
  {
   "cell_type": "markdown",
   "metadata": {},
   "source": [
    "## Evaluation"
   ]
  },
  {
   "cell_type": "markdown",
   "metadata": {},
   "source": [
    "The model did not work as well as intended due the mostly the fact that the angle that the drivers are driving has slight differences and it does not really consider the hand positions as i would like it to. However, we can see how the head positions are captured in this model with the feature importance. Either way this method is high prone to be affected by the skin colour of the individual and the amount of light exposure since the mask created is using dark spots in the image. While this method might not be correct. We could try other methods such as bounding boxes or guassian mixtures or other transformation of image instead of background removal."
   ]
  }
 ],
 "metadata": {
  "kernelspec": {
   "display_name": "Python 3",
   "language": "python",
   "name": "python3"
  },
  "language_info": {
   "codemirror_mode": {
    "name": "ipython",
    "version": 3
   },
   "file_extension": ".py",
   "mimetype": "text/x-python",
   "name": "python",
   "nbconvert_exporter": "python",
   "pygments_lexer": "ipython3",
   "version": "3.7.4"
  }
 },
 "nbformat": 4,
 "nbformat_minor": 2
}
